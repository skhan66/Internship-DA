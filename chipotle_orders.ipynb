{
  "nbformat": 4,
  "nbformat_minor": 0,
  "metadata": {
    "colab": {
      "provenance": [],
      "include_colab_link": true
    },
    "kernelspec": {
      "name": "python3",
      "display_name": "Python 3"
    },
    "language_info": {
      "name": "python"
    }
  },
  "cells": [
    {
      "cell_type": "markdown",
      "metadata": {
        "id": "view-in-github",
        "colab_type": "text"
      },
      "source": [
        "<a href=\"https://colab.research.google.com/github/skhan66/Internship-DA/blob/main/chipotle_orders.ipynb\" target=\"_parent\"><img src=\"https://colab.research.google.com/assets/colab-badge.svg\" alt=\"Open In Colab\"/></a>"
      ]
    },
    {
      "cell_type": "markdown",
      "source": [
        "1. How to load data?\n",
        "2. How to work on csv / tsv file?\n",
        "3. Basic Statistics on Data.\n",
        "4. Data Cleaning with each column.\n",
        "5. Choice description\n",
        "6. Regular Expression\n",
        "7. Solve some questions from dataset."
      ],
      "metadata": {
        "id": "PlyALpwjgo95"
      }
    },
    {
      "cell_type": "code",
      "execution_count": 1,
      "metadata": {
        "id": "0y72Yb4BgfXt"
      },
      "outputs": [],
      "source": [
        "# importing libraries\n",
        "import numpy as np\n",
        "import pandas as pd\n"
      ]
    },
    {
      "cell_type": "markdown",
      "source": [
        "## Read Data"
      ],
      "metadata": {
        "id": "XH2L1GcGiOoJ"
      }
    },
    {
      "cell_type": "code",
      "source": [
        "data = pd.read_csv(\"/content/drive/MyDrive/Data-cleaning-for-beginners-using-pandas (1).csv\")\n"
      ],
      "metadata": {
        "id": "8-zdvFkoiNkZ"
      },
      "execution_count": 5,
      "outputs": []
    },
    {
      "cell_type": "code",
      "source": [
        "from google.colab import drive\n",
        "drive.mount('/content/drive')"
      ],
      "metadata": {
        "colab": {
          "base_uri": "https://localhost:8080/"
        },
        "id": "or9rfVivSoEL",
        "outputId": "3aacc48a-92a1-4650-8e5c-29e704ccfc88"
      },
      "execution_count": 28,
      "outputs": [
        {
          "output_type": "stream",
          "name": "stdout",
          "text": [
            "Drive already mounted at /content/drive; to attempt to forcibly remount, call drive.mount(\"/content/drive\", force_remount=True).\n"
          ]
        }
      ]
    },
    {
      "cell_type": "code",
      "source": [
        "copy_data = data.copy()"
      ],
      "metadata": {
        "id": "vXi1_0iaBO38"
      },
      "execution_count": 17,
      "outputs": []
    },
    {
      "cell_type": "code",
      "source": [
        "data"
      ],
      "metadata": {
        "colab": {
          "base_uri": "https://localhost:8080/",
          "height": 959
        },
        "id": "2oX4_3m2itP-",
        "outputId": "0f7f17ae-34f9-42d6-8eeb-fb2318cbab55"
      },
      "execution_count": 18,
      "outputs": [
        {
          "output_type": "execute_result",
          "data": {
            "text/plain": [
              "    Index   Age      Salary  Rating       Location  Established Easy Apply\n",
              "0       0  44.0   $44k-$99k     5.4       India,In         1999       TRUE\n",
              "1       1  66.0   $55k-$66k     3.5    New York,Ny         2002       TRUE\n",
              "2       2   NaN   $77k-$89k    -1.0    New York,Ny           -1         -1\n",
              "3       3  64.0   $44k-$99k     4.4       India In         1988         -1\n",
              "4       4  25.0   $44k-$99k     6.4  Australia Aus         2002         -1\n",
              "5       5  44.0   $77k-$89k     1.4       India,In         1999       TRUE\n",
              "6       6  21.0   $44k-$99k     0.0    New York,Ny           -1         -1\n",
              "7       7  44.0   $44k-$99k    -1.0  Australia Aus           -1         -1\n",
              "8       8  35.0   $44k-$99k     5.4    New York,Ny           -1         -1\n",
              "9       9  22.0   $44k-$99k     7.7       India,In           -1       TRUE\n",
              "10     10  55.0   $10k-$49k     5.4       India,In         2008       TRUE\n",
              "11     11  44.0   $10k-$49k     6.7       India,In         2009         -1\n",
              "12     12   NaN   $44k-$99k     0.0       India,In         1999         -1\n",
              "13     13  25.0   $44k-$99k    -1.0  Australia Aus         2019       TRUE\n",
              "14     14  66.0   $44k-$99k     4.0  Australia Aus         2020       TRUE\n",
              "15     15  44.0  $88k-$101k     3.0  Australia Aus         1999         -1\n",
              "16     16  19.0   $19k-$40k     4.5       India,In         1984         -1\n",
              "17     17   NaN   $44k-$99k     5.3    New York,Ny         1943       TRUE\n",
              "18     18  35.0   $44k-$99k     6.7    New York,Ny         1954       TRUE\n",
              "19     19  32.0   $44k-$99k     3.3    New York,Ny         1955       TRUE\n",
              "20     20   NaN   $44k-$99k     5.7    New York,Ny         1944       TRUE\n",
              "21     21  35.0   $44k-$99k     5.0    New York,Ny         1946         -1\n",
              "22     22  19.0   $55k-$66k     7.8    New York,Ny         1988       TRUE\n",
              "23     23   NaN   $44k-$99k     2.4    New York,Ny         1999       TRUE\n",
              "24     24  13.0   $44k-$99k    -1.0    New York,Ny         1987         -1\n",
              "25     25  55.0   $44k-$99k     0.0  Australia Aus         1980       TRUE\n",
              "26     26   NaN   $55k-$66k     NaN       India,In         1934       TRUE\n",
              "27     27  52.0   $44k-$99k     5.4       India,In         1935         -1\n",
              "28     28   NaN   $39k-$88k     3.4  Australia Aus         1932         -1"
            ],
            "text/html": [
              "\n",
              "  <div id=\"df-4cbbe210-9838-4994-bf78-037c3e4dfdc7\" class=\"colab-df-container\">\n",
              "    <div>\n",
              "<style scoped>\n",
              "    .dataframe tbody tr th:only-of-type {\n",
              "        vertical-align: middle;\n",
              "    }\n",
              "\n",
              "    .dataframe tbody tr th {\n",
              "        vertical-align: top;\n",
              "    }\n",
              "\n",
              "    .dataframe thead th {\n",
              "        text-align: right;\n",
              "    }\n",
              "</style>\n",
              "<table border=\"1\" class=\"dataframe\">\n",
              "  <thead>\n",
              "    <tr style=\"text-align: right;\">\n",
              "      <th></th>\n",
              "      <th>Index</th>\n",
              "      <th>Age</th>\n",
              "      <th>Salary</th>\n",
              "      <th>Rating</th>\n",
              "      <th>Location</th>\n",
              "      <th>Established</th>\n",
              "      <th>Easy Apply</th>\n",
              "    </tr>\n",
              "  </thead>\n",
              "  <tbody>\n",
              "    <tr>\n",
              "      <th>0</th>\n",
              "      <td>0</td>\n",
              "      <td>44.0</td>\n",
              "      <td>$44k-$99k</td>\n",
              "      <td>5.4</td>\n",
              "      <td>India,In</td>\n",
              "      <td>1999</td>\n",
              "      <td>TRUE</td>\n",
              "    </tr>\n",
              "    <tr>\n",
              "      <th>1</th>\n",
              "      <td>1</td>\n",
              "      <td>66.0</td>\n",
              "      <td>$55k-$66k</td>\n",
              "      <td>3.5</td>\n",
              "      <td>New York,Ny</td>\n",
              "      <td>2002</td>\n",
              "      <td>TRUE</td>\n",
              "    </tr>\n",
              "    <tr>\n",
              "      <th>2</th>\n",
              "      <td>2</td>\n",
              "      <td>NaN</td>\n",
              "      <td>$77k-$89k</td>\n",
              "      <td>-1.0</td>\n",
              "      <td>New York,Ny</td>\n",
              "      <td>-1</td>\n",
              "      <td>-1</td>\n",
              "    </tr>\n",
              "    <tr>\n",
              "      <th>3</th>\n",
              "      <td>3</td>\n",
              "      <td>64.0</td>\n",
              "      <td>$44k-$99k</td>\n",
              "      <td>4.4</td>\n",
              "      <td>India In</td>\n",
              "      <td>1988</td>\n",
              "      <td>-1</td>\n",
              "    </tr>\n",
              "    <tr>\n",
              "      <th>4</th>\n",
              "      <td>4</td>\n",
              "      <td>25.0</td>\n",
              "      <td>$44k-$99k</td>\n",
              "      <td>6.4</td>\n",
              "      <td>Australia Aus</td>\n",
              "      <td>2002</td>\n",
              "      <td>-1</td>\n",
              "    </tr>\n",
              "    <tr>\n",
              "      <th>5</th>\n",
              "      <td>5</td>\n",
              "      <td>44.0</td>\n",
              "      <td>$77k-$89k</td>\n",
              "      <td>1.4</td>\n",
              "      <td>India,In</td>\n",
              "      <td>1999</td>\n",
              "      <td>TRUE</td>\n",
              "    </tr>\n",
              "    <tr>\n",
              "      <th>6</th>\n",
              "      <td>6</td>\n",
              "      <td>21.0</td>\n",
              "      <td>$44k-$99k</td>\n",
              "      <td>0.0</td>\n",
              "      <td>New York,Ny</td>\n",
              "      <td>-1</td>\n",
              "      <td>-1</td>\n",
              "    </tr>\n",
              "    <tr>\n",
              "      <th>7</th>\n",
              "      <td>7</td>\n",
              "      <td>44.0</td>\n",
              "      <td>$44k-$99k</td>\n",
              "      <td>-1.0</td>\n",
              "      <td>Australia Aus</td>\n",
              "      <td>-1</td>\n",
              "      <td>-1</td>\n",
              "    </tr>\n",
              "    <tr>\n",
              "      <th>8</th>\n",
              "      <td>8</td>\n",
              "      <td>35.0</td>\n",
              "      <td>$44k-$99k</td>\n",
              "      <td>5.4</td>\n",
              "      <td>New York,Ny</td>\n",
              "      <td>-1</td>\n",
              "      <td>-1</td>\n",
              "    </tr>\n",
              "    <tr>\n",
              "      <th>9</th>\n",
              "      <td>9</td>\n",
              "      <td>22.0</td>\n",
              "      <td>$44k-$99k</td>\n",
              "      <td>7.7</td>\n",
              "      <td>India,In</td>\n",
              "      <td>-1</td>\n",
              "      <td>TRUE</td>\n",
              "    </tr>\n",
              "    <tr>\n",
              "      <th>10</th>\n",
              "      <td>10</td>\n",
              "      <td>55.0</td>\n",
              "      <td>$10k-$49k</td>\n",
              "      <td>5.4</td>\n",
              "      <td>India,In</td>\n",
              "      <td>2008</td>\n",
              "      <td>TRUE</td>\n",
              "    </tr>\n",
              "    <tr>\n",
              "      <th>11</th>\n",
              "      <td>11</td>\n",
              "      <td>44.0</td>\n",
              "      <td>$10k-$49k</td>\n",
              "      <td>6.7</td>\n",
              "      <td>India,In</td>\n",
              "      <td>2009</td>\n",
              "      <td>-1</td>\n",
              "    </tr>\n",
              "    <tr>\n",
              "      <th>12</th>\n",
              "      <td>12</td>\n",
              "      <td>NaN</td>\n",
              "      <td>$44k-$99k</td>\n",
              "      <td>0.0</td>\n",
              "      <td>India,In</td>\n",
              "      <td>1999</td>\n",
              "      <td>-1</td>\n",
              "    </tr>\n",
              "    <tr>\n",
              "      <th>13</th>\n",
              "      <td>13</td>\n",
              "      <td>25.0</td>\n",
              "      <td>$44k-$99k</td>\n",
              "      <td>-1.0</td>\n",
              "      <td>Australia Aus</td>\n",
              "      <td>2019</td>\n",
              "      <td>TRUE</td>\n",
              "    </tr>\n",
              "    <tr>\n",
              "      <th>14</th>\n",
              "      <td>14</td>\n",
              "      <td>66.0</td>\n",
              "      <td>$44k-$99k</td>\n",
              "      <td>4.0</td>\n",
              "      <td>Australia Aus</td>\n",
              "      <td>2020</td>\n",
              "      <td>TRUE</td>\n",
              "    </tr>\n",
              "    <tr>\n",
              "      <th>15</th>\n",
              "      <td>15</td>\n",
              "      <td>44.0</td>\n",
              "      <td>$88k-$101k</td>\n",
              "      <td>3.0</td>\n",
              "      <td>Australia Aus</td>\n",
              "      <td>1999</td>\n",
              "      <td>-1</td>\n",
              "    </tr>\n",
              "    <tr>\n",
              "      <th>16</th>\n",
              "      <td>16</td>\n",
              "      <td>19.0</td>\n",
              "      <td>$19k-$40k</td>\n",
              "      <td>4.5</td>\n",
              "      <td>India,In</td>\n",
              "      <td>1984</td>\n",
              "      <td>-1</td>\n",
              "    </tr>\n",
              "    <tr>\n",
              "      <th>17</th>\n",
              "      <td>17</td>\n",
              "      <td>NaN</td>\n",
              "      <td>$44k-$99k</td>\n",
              "      <td>5.3</td>\n",
              "      <td>New York,Ny</td>\n",
              "      <td>1943</td>\n",
              "      <td>TRUE</td>\n",
              "    </tr>\n",
              "    <tr>\n",
              "      <th>18</th>\n",
              "      <td>18</td>\n",
              "      <td>35.0</td>\n",
              "      <td>$44k-$99k</td>\n",
              "      <td>6.7</td>\n",
              "      <td>New York,Ny</td>\n",
              "      <td>1954</td>\n",
              "      <td>TRUE</td>\n",
              "    </tr>\n",
              "    <tr>\n",
              "      <th>19</th>\n",
              "      <td>19</td>\n",
              "      <td>32.0</td>\n",
              "      <td>$44k-$99k</td>\n",
              "      <td>3.3</td>\n",
              "      <td>New York,Ny</td>\n",
              "      <td>1955</td>\n",
              "      <td>TRUE</td>\n",
              "    </tr>\n",
              "    <tr>\n",
              "      <th>20</th>\n",
              "      <td>20</td>\n",
              "      <td>NaN</td>\n",
              "      <td>$44k-$99k</td>\n",
              "      <td>5.7</td>\n",
              "      <td>New York,Ny</td>\n",
              "      <td>1944</td>\n",
              "      <td>TRUE</td>\n",
              "    </tr>\n",
              "    <tr>\n",
              "      <th>21</th>\n",
              "      <td>21</td>\n",
              "      <td>35.0</td>\n",
              "      <td>$44k-$99k</td>\n",
              "      <td>5.0</td>\n",
              "      <td>New York,Ny</td>\n",
              "      <td>1946</td>\n",
              "      <td>-1</td>\n",
              "    </tr>\n",
              "    <tr>\n",
              "      <th>22</th>\n",
              "      <td>22</td>\n",
              "      <td>19.0</td>\n",
              "      <td>$55k-$66k</td>\n",
              "      <td>7.8</td>\n",
              "      <td>New York,Ny</td>\n",
              "      <td>1988</td>\n",
              "      <td>TRUE</td>\n",
              "    </tr>\n",
              "    <tr>\n",
              "      <th>23</th>\n",
              "      <td>23</td>\n",
              "      <td>NaN</td>\n",
              "      <td>$44k-$99k</td>\n",
              "      <td>2.4</td>\n",
              "      <td>New York,Ny</td>\n",
              "      <td>1999</td>\n",
              "      <td>TRUE</td>\n",
              "    </tr>\n",
              "    <tr>\n",
              "      <th>24</th>\n",
              "      <td>24</td>\n",
              "      <td>13.0</td>\n",
              "      <td>$44k-$99k</td>\n",
              "      <td>-1.0</td>\n",
              "      <td>New York,Ny</td>\n",
              "      <td>1987</td>\n",
              "      <td>-1</td>\n",
              "    </tr>\n",
              "    <tr>\n",
              "      <th>25</th>\n",
              "      <td>25</td>\n",
              "      <td>55.0</td>\n",
              "      <td>$44k-$99k</td>\n",
              "      <td>0.0</td>\n",
              "      <td>Australia Aus</td>\n",
              "      <td>1980</td>\n",
              "      <td>TRUE</td>\n",
              "    </tr>\n",
              "    <tr>\n",
              "      <th>26</th>\n",
              "      <td>26</td>\n",
              "      <td>NaN</td>\n",
              "      <td>$55k-$66k</td>\n",
              "      <td>NaN</td>\n",
              "      <td>India,In</td>\n",
              "      <td>1934</td>\n",
              "      <td>TRUE</td>\n",
              "    </tr>\n",
              "    <tr>\n",
              "      <th>27</th>\n",
              "      <td>27</td>\n",
              "      <td>52.0</td>\n",
              "      <td>$44k-$99k</td>\n",
              "      <td>5.4</td>\n",
              "      <td>India,In</td>\n",
              "      <td>1935</td>\n",
              "      <td>-1</td>\n",
              "    </tr>\n",
              "    <tr>\n",
              "      <th>28</th>\n",
              "      <td>28</td>\n",
              "      <td>NaN</td>\n",
              "      <td>$39k-$88k</td>\n",
              "      <td>3.4</td>\n",
              "      <td>Australia Aus</td>\n",
              "      <td>1932</td>\n",
              "      <td>-1</td>\n",
              "    </tr>\n",
              "  </tbody>\n",
              "</table>\n",
              "</div>\n",
              "    <div class=\"colab-df-buttons\">\n",
              "\n",
              "  <div class=\"colab-df-container\">\n",
              "    <button class=\"colab-df-convert\" onclick=\"convertToInteractive('df-4cbbe210-9838-4994-bf78-037c3e4dfdc7')\"\n",
              "            title=\"Convert this dataframe to an interactive table.\"\n",
              "            style=\"display:none;\">\n",
              "\n",
              "  <svg xmlns=\"http://www.w3.org/2000/svg\" height=\"24px\" viewBox=\"0 -960 960 960\">\n",
              "    <path d=\"M120-120v-720h720v720H120Zm60-500h600v-160H180v160Zm220 220h160v-160H400v160Zm0 220h160v-160H400v160ZM180-400h160v-160H180v160Zm440 0h160v-160H620v160ZM180-180h160v-160H180v160Zm440 0h160v-160H620v160Z\"/>\n",
              "  </svg>\n",
              "    </button>\n",
              "\n",
              "  <style>\n",
              "    .colab-df-container {\n",
              "      display:flex;\n",
              "      gap: 12px;\n",
              "    }\n",
              "\n",
              "    .colab-df-convert {\n",
              "      background-color: #E8F0FE;\n",
              "      border: none;\n",
              "      border-radius: 50%;\n",
              "      cursor: pointer;\n",
              "      display: none;\n",
              "      fill: #1967D2;\n",
              "      height: 32px;\n",
              "      padding: 0 0 0 0;\n",
              "      width: 32px;\n",
              "    }\n",
              "\n",
              "    .colab-df-convert:hover {\n",
              "      background-color: #E2EBFA;\n",
              "      box-shadow: 0px 1px 2px rgba(60, 64, 67, 0.3), 0px 1px 3px 1px rgba(60, 64, 67, 0.15);\n",
              "      fill: #174EA6;\n",
              "    }\n",
              "\n",
              "    .colab-df-buttons div {\n",
              "      margin-bottom: 4px;\n",
              "    }\n",
              "\n",
              "    [theme=dark] .colab-df-convert {\n",
              "      background-color: #3B4455;\n",
              "      fill: #D2E3FC;\n",
              "    }\n",
              "\n",
              "    [theme=dark] .colab-df-convert:hover {\n",
              "      background-color: #434B5C;\n",
              "      box-shadow: 0px 1px 3px 1px rgba(0, 0, 0, 0.15);\n",
              "      filter: drop-shadow(0px 1px 2px rgba(0, 0, 0, 0.3));\n",
              "      fill: #FFFFFF;\n",
              "    }\n",
              "  </style>\n",
              "\n",
              "    <script>\n",
              "      const buttonEl =\n",
              "        document.querySelector('#df-4cbbe210-9838-4994-bf78-037c3e4dfdc7 button.colab-df-convert');\n",
              "      buttonEl.style.display =\n",
              "        google.colab.kernel.accessAllowed ? 'block' : 'none';\n",
              "\n",
              "      async function convertToInteractive(key) {\n",
              "        const element = document.querySelector('#df-4cbbe210-9838-4994-bf78-037c3e4dfdc7');\n",
              "        const dataTable =\n",
              "          await google.colab.kernel.invokeFunction('convertToInteractive',\n",
              "                                                    [key], {});\n",
              "        if (!dataTable) return;\n",
              "\n",
              "        const docLinkHtml = 'Like what you see? Visit the ' +\n",
              "          '<a target=\"_blank\" href=https://colab.research.google.com/notebooks/data_table.ipynb>data table notebook</a>'\n",
              "          + ' to learn more about interactive tables.';\n",
              "        element.innerHTML = '';\n",
              "        dataTable['output_type'] = 'display_data';\n",
              "        await google.colab.output.renderOutput(dataTable, element);\n",
              "        const docLink = document.createElement('div');\n",
              "        docLink.innerHTML = docLinkHtml;\n",
              "        element.appendChild(docLink);\n",
              "      }\n",
              "    </script>\n",
              "  </div>\n",
              "\n",
              "\n",
              "<div id=\"df-30a4f8da-4526-4ea5-b92e-204a62961483\">\n",
              "  <button class=\"colab-df-quickchart\" onclick=\"quickchart('df-30a4f8da-4526-4ea5-b92e-204a62961483')\"\n",
              "            title=\"Suggest charts\"\n",
              "            style=\"display:none;\">\n",
              "\n",
              "<svg xmlns=\"http://www.w3.org/2000/svg\" height=\"24px\"viewBox=\"0 0 24 24\"\n",
              "     width=\"24px\">\n",
              "    <g>\n",
              "        <path d=\"M19 3H5c-1.1 0-2 .9-2 2v14c0 1.1.9 2 2 2h14c1.1 0 2-.9 2-2V5c0-1.1-.9-2-2-2zM9 17H7v-7h2v7zm4 0h-2V7h2v10zm4 0h-2v-4h2v4z\"/>\n",
              "    </g>\n",
              "</svg>\n",
              "  </button>\n",
              "\n",
              "<style>\n",
              "  .colab-df-quickchart {\n",
              "      --bg-color: #E8F0FE;\n",
              "      --fill-color: #1967D2;\n",
              "      --hover-bg-color: #E2EBFA;\n",
              "      --hover-fill-color: #174EA6;\n",
              "      --disabled-fill-color: #AAA;\n",
              "      --disabled-bg-color: #DDD;\n",
              "  }\n",
              "\n",
              "  [theme=dark] .colab-df-quickchart {\n",
              "      --bg-color: #3B4455;\n",
              "      --fill-color: #D2E3FC;\n",
              "      --hover-bg-color: #434B5C;\n",
              "      --hover-fill-color: #FFFFFF;\n",
              "      --disabled-bg-color: #3B4455;\n",
              "      --disabled-fill-color: #666;\n",
              "  }\n",
              "\n",
              "  .colab-df-quickchart {\n",
              "    background-color: var(--bg-color);\n",
              "    border: none;\n",
              "    border-radius: 50%;\n",
              "    cursor: pointer;\n",
              "    display: none;\n",
              "    fill: var(--fill-color);\n",
              "    height: 32px;\n",
              "    padding: 0;\n",
              "    width: 32px;\n",
              "  }\n",
              "\n",
              "  .colab-df-quickchart:hover {\n",
              "    background-color: var(--hover-bg-color);\n",
              "    box-shadow: 0 1px 2px rgba(60, 64, 67, 0.3), 0 1px 3px 1px rgba(60, 64, 67, 0.15);\n",
              "    fill: var(--button-hover-fill-color);\n",
              "  }\n",
              "\n",
              "  .colab-df-quickchart-complete:disabled,\n",
              "  .colab-df-quickchart-complete:disabled:hover {\n",
              "    background-color: var(--disabled-bg-color);\n",
              "    fill: var(--disabled-fill-color);\n",
              "    box-shadow: none;\n",
              "  }\n",
              "\n",
              "  .colab-df-spinner {\n",
              "    border: 2px solid var(--fill-color);\n",
              "    border-color: transparent;\n",
              "    border-bottom-color: var(--fill-color);\n",
              "    animation:\n",
              "      spin 1s steps(1) infinite;\n",
              "  }\n",
              "\n",
              "  @keyframes spin {\n",
              "    0% {\n",
              "      border-color: transparent;\n",
              "      border-bottom-color: var(--fill-color);\n",
              "      border-left-color: var(--fill-color);\n",
              "    }\n",
              "    20% {\n",
              "      border-color: transparent;\n",
              "      border-left-color: var(--fill-color);\n",
              "      border-top-color: var(--fill-color);\n",
              "    }\n",
              "    30% {\n",
              "      border-color: transparent;\n",
              "      border-left-color: var(--fill-color);\n",
              "      border-top-color: var(--fill-color);\n",
              "      border-right-color: var(--fill-color);\n",
              "    }\n",
              "    40% {\n",
              "      border-color: transparent;\n",
              "      border-right-color: var(--fill-color);\n",
              "      border-top-color: var(--fill-color);\n",
              "    }\n",
              "    60% {\n",
              "      border-color: transparent;\n",
              "      border-right-color: var(--fill-color);\n",
              "    }\n",
              "    80% {\n",
              "      border-color: transparent;\n",
              "      border-right-color: var(--fill-color);\n",
              "      border-bottom-color: var(--fill-color);\n",
              "    }\n",
              "    90% {\n",
              "      border-color: transparent;\n",
              "      border-bottom-color: var(--fill-color);\n",
              "    }\n",
              "  }\n",
              "</style>\n",
              "\n",
              "  <script>\n",
              "    async function quickchart(key) {\n",
              "      const quickchartButtonEl =\n",
              "        document.querySelector('#' + key + ' button');\n",
              "      quickchartButtonEl.disabled = true;  // To prevent multiple clicks.\n",
              "      quickchartButtonEl.classList.add('colab-df-spinner');\n",
              "      try {\n",
              "        const charts = await google.colab.kernel.invokeFunction(\n",
              "            'suggestCharts', [key], {});\n",
              "      } catch (error) {\n",
              "        console.error('Error during call to suggestCharts:', error);\n",
              "      }\n",
              "      quickchartButtonEl.classList.remove('colab-df-spinner');\n",
              "      quickchartButtonEl.classList.add('colab-df-quickchart-complete');\n",
              "    }\n",
              "    (() => {\n",
              "      let quickchartButtonEl =\n",
              "        document.querySelector('#df-30a4f8da-4526-4ea5-b92e-204a62961483 button');\n",
              "      quickchartButtonEl.style.display =\n",
              "        google.colab.kernel.accessAllowed ? 'block' : 'none';\n",
              "    })();\n",
              "  </script>\n",
              "</div>\n",
              "\n",
              "  <div id=\"id_5e9ee103-c2a8-4e09-b7fb-e2b7802b087e\">\n",
              "    <style>\n",
              "      .colab-df-generate {\n",
              "        background-color: #E8F0FE;\n",
              "        border: none;\n",
              "        border-radius: 50%;\n",
              "        cursor: pointer;\n",
              "        display: none;\n",
              "        fill: #1967D2;\n",
              "        height: 32px;\n",
              "        padding: 0 0 0 0;\n",
              "        width: 32px;\n",
              "      }\n",
              "\n",
              "      .colab-df-generate:hover {\n",
              "        background-color: #E2EBFA;\n",
              "        box-shadow: 0px 1px 2px rgba(60, 64, 67, 0.3), 0px 1px 3px 1px rgba(60, 64, 67, 0.15);\n",
              "        fill: #174EA6;\n",
              "      }\n",
              "\n",
              "      [theme=dark] .colab-df-generate {\n",
              "        background-color: #3B4455;\n",
              "        fill: #D2E3FC;\n",
              "      }\n",
              "\n",
              "      [theme=dark] .colab-df-generate:hover {\n",
              "        background-color: #434B5C;\n",
              "        box-shadow: 0px 1px 3px 1px rgba(0, 0, 0, 0.15);\n",
              "        filter: drop-shadow(0px 1px 2px rgba(0, 0, 0, 0.3));\n",
              "        fill: #FFFFFF;\n",
              "      }\n",
              "    </style>\n",
              "    <button class=\"colab-df-generate\" onclick=\"generateWithVariable('data')\"\n",
              "            title=\"Generate code using this dataframe.\"\n",
              "            style=\"display:none;\">\n",
              "\n",
              "  <svg xmlns=\"http://www.w3.org/2000/svg\" height=\"24px\"viewBox=\"0 0 24 24\"\n",
              "       width=\"24px\">\n",
              "    <path d=\"M7,19H8.4L18.45,9,17,7.55,7,17.6ZM5,21V16.75L18.45,3.32a2,2,0,0,1,2.83,0l1.4,1.43a1.91,1.91,0,0,1,.58,1.4,1.91,1.91,0,0,1-.58,1.4L9.25,21ZM18.45,9,17,7.55Zm-12,3A5.31,5.31,0,0,0,4.9,8.1,5.31,5.31,0,0,0,1,6.5,5.31,5.31,0,0,0,4.9,4.9,5.31,5.31,0,0,0,6.5,1,5.31,5.31,0,0,0,8.1,4.9,5.31,5.31,0,0,0,12,6.5,5.46,5.46,0,0,0,6.5,12Z\"/>\n",
              "  </svg>\n",
              "    </button>\n",
              "    <script>\n",
              "      (() => {\n",
              "      const buttonEl =\n",
              "        document.querySelector('#id_5e9ee103-c2a8-4e09-b7fb-e2b7802b087e button.colab-df-generate');\n",
              "      buttonEl.style.display =\n",
              "        google.colab.kernel.accessAllowed ? 'block' : 'none';\n",
              "\n",
              "      buttonEl.onclick = () => {\n",
              "        google.colab.notebook.generateWithVariable('data');\n",
              "      }\n",
              "      })();\n",
              "    </script>\n",
              "  </div>\n",
              "\n",
              "    </div>\n",
              "  </div>\n"
            ]
          },
          "metadata": {},
          "execution_count": 18
        }
      ]
    },
    {
      "cell_type": "code",
      "source": [
        "data.head()"
      ],
      "metadata": {
        "colab": {
          "base_uri": "https://localhost:8080/",
          "height": 206
        },
        "id": "b0B_u9lckC6Z",
        "outputId": "55df7677-4d90-4cb2-a0a8-0614143ed395"
      },
      "execution_count": 19,
      "outputs": [
        {
          "output_type": "execute_result",
          "data": {
            "text/plain": [
              "   Index   Age     Salary  Rating       Location  Established Easy Apply\n",
              "0      0  44.0  $44k-$99k     5.4       India,In         1999       TRUE\n",
              "1      1  66.0  $55k-$66k     3.5    New York,Ny         2002       TRUE\n",
              "2      2   NaN  $77k-$89k    -1.0    New York,Ny           -1         -1\n",
              "3      3  64.0  $44k-$99k     4.4       India In         1988         -1\n",
              "4      4  25.0  $44k-$99k     6.4  Australia Aus         2002         -1"
            ],
            "text/html": [
              "\n",
              "  <div id=\"df-d62134bd-ea8c-46f2-bb1f-1b6892f1c010\" class=\"colab-df-container\">\n",
              "    <div>\n",
              "<style scoped>\n",
              "    .dataframe tbody tr th:only-of-type {\n",
              "        vertical-align: middle;\n",
              "    }\n",
              "\n",
              "    .dataframe tbody tr th {\n",
              "        vertical-align: top;\n",
              "    }\n",
              "\n",
              "    .dataframe thead th {\n",
              "        text-align: right;\n",
              "    }\n",
              "</style>\n",
              "<table border=\"1\" class=\"dataframe\">\n",
              "  <thead>\n",
              "    <tr style=\"text-align: right;\">\n",
              "      <th></th>\n",
              "      <th>Index</th>\n",
              "      <th>Age</th>\n",
              "      <th>Salary</th>\n",
              "      <th>Rating</th>\n",
              "      <th>Location</th>\n",
              "      <th>Established</th>\n",
              "      <th>Easy Apply</th>\n",
              "    </tr>\n",
              "  </thead>\n",
              "  <tbody>\n",
              "    <tr>\n",
              "      <th>0</th>\n",
              "      <td>0</td>\n",
              "      <td>44.0</td>\n",
              "      <td>$44k-$99k</td>\n",
              "      <td>5.4</td>\n",
              "      <td>India,In</td>\n",
              "      <td>1999</td>\n",
              "      <td>TRUE</td>\n",
              "    </tr>\n",
              "    <tr>\n",
              "      <th>1</th>\n",
              "      <td>1</td>\n",
              "      <td>66.0</td>\n",
              "      <td>$55k-$66k</td>\n",
              "      <td>3.5</td>\n",
              "      <td>New York,Ny</td>\n",
              "      <td>2002</td>\n",
              "      <td>TRUE</td>\n",
              "    </tr>\n",
              "    <tr>\n",
              "      <th>2</th>\n",
              "      <td>2</td>\n",
              "      <td>NaN</td>\n",
              "      <td>$77k-$89k</td>\n",
              "      <td>-1.0</td>\n",
              "      <td>New York,Ny</td>\n",
              "      <td>-1</td>\n",
              "      <td>-1</td>\n",
              "    </tr>\n",
              "    <tr>\n",
              "      <th>3</th>\n",
              "      <td>3</td>\n",
              "      <td>64.0</td>\n",
              "      <td>$44k-$99k</td>\n",
              "      <td>4.4</td>\n",
              "      <td>India In</td>\n",
              "      <td>1988</td>\n",
              "      <td>-1</td>\n",
              "    </tr>\n",
              "    <tr>\n",
              "      <th>4</th>\n",
              "      <td>4</td>\n",
              "      <td>25.0</td>\n",
              "      <td>$44k-$99k</td>\n",
              "      <td>6.4</td>\n",
              "      <td>Australia Aus</td>\n",
              "      <td>2002</td>\n",
              "      <td>-1</td>\n",
              "    </tr>\n",
              "  </tbody>\n",
              "</table>\n",
              "</div>\n",
              "    <div class=\"colab-df-buttons\">\n",
              "\n",
              "  <div class=\"colab-df-container\">\n",
              "    <button class=\"colab-df-convert\" onclick=\"convertToInteractive('df-d62134bd-ea8c-46f2-bb1f-1b6892f1c010')\"\n",
              "            title=\"Convert this dataframe to an interactive table.\"\n",
              "            style=\"display:none;\">\n",
              "\n",
              "  <svg xmlns=\"http://www.w3.org/2000/svg\" height=\"24px\" viewBox=\"0 -960 960 960\">\n",
              "    <path d=\"M120-120v-720h720v720H120Zm60-500h600v-160H180v160Zm220 220h160v-160H400v160Zm0 220h160v-160H400v160ZM180-400h160v-160H180v160Zm440 0h160v-160H620v160ZM180-180h160v-160H180v160Zm440 0h160v-160H620v160Z\"/>\n",
              "  </svg>\n",
              "    </button>\n",
              "\n",
              "  <style>\n",
              "    .colab-df-container {\n",
              "      display:flex;\n",
              "      gap: 12px;\n",
              "    }\n",
              "\n",
              "    .colab-df-convert {\n",
              "      background-color: #E8F0FE;\n",
              "      border: none;\n",
              "      border-radius: 50%;\n",
              "      cursor: pointer;\n",
              "      display: none;\n",
              "      fill: #1967D2;\n",
              "      height: 32px;\n",
              "      padding: 0 0 0 0;\n",
              "      width: 32px;\n",
              "    }\n",
              "\n",
              "    .colab-df-convert:hover {\n",
              "      background-color: #E2EBFA;\n",
              "      box-shadow: 0px 1px 2px rgba(60, 64, 67, 0.3), 0px 1px 3px 1px rgba(60, 64, 67, 0.15);\n",
              "      fill: #174EA6;\n",
              "    }\n",
              "\n",
              "    .colab-df-buttons div {\n",
              "      margin-bottom: 4px;\n",
              "    }\n",
              "\n",
              "    [theme=dark] .colab-df-convert {\n",
              "      background-color: #3B4455;\n",
              "      fill: #D2E3FC;\n",
              "    }\n",
              "\n",
              "    [theme=dark] .colab-df-convert:hover {\n",
              "      background-color: #434B5C;\n",
              "      box-shadow: 0px 1px 3px 1px rgba(0, 0, 0, 0.15);\n",
              "      filter: drop-shadow(0px 1px 2px rgba(0, 0, 0, 0.3));\n",
              "      fill: #FFFFFF;\n",
              "    }\n",
              "  </style>\n",
              "\n",
              "    <script>\n",
              "      const buttonEl =\n",
              "        document.querySelector('#df-d62134bd-ea8c-46f2-bb1f-1b6892f1c010 button.colab-df-convert');\n",
              "      buttonEl.style.display =\n",
              "        google.colab.kernel.accessAllowed ? 'block' : 'none';\n",
              "\n",
              "      async function convertToInteractive(key) {\n",
              "        const element = document.querySelector('#df-d62134bd-ea8c-46f2-bb1f-1b6892f1c010');\n",
              "        const dataTable =\n",
              "          await google.colab.kernel.invokeFunction('convertToInteractive',\n",
              "                                                    [key], {});\n",
              "        if (!dataTable) return;\n",
              "\n",
              "        const docLinkHtml = 'Like what you see? Visit the ' +\n",
              "          '<a target=\"_blank\" href=https://colab.research.google.com/notebooks/data_table.ipynb>data table notebook</a>'\n",
              "          + ' to learn more about interactive tables.';\n",
              "        element.innerHTML = '';\n",
              "        dataTable['output_type'] = 'display_data';\n",
              "        await google.colab.output.renderOutput(dataTable, element);\n",
              "        const docLink = document.createElement('div');\n",
              "        docLink.innerHTML = docLinkHtml;\n",
              "        element.appendChild(docLink);\n",
              "      }\n",
              "    </script>\n",
              "  </div>\n",
              "\n",
              "\n",
              "<div id=\"df-217f258f-f9e6-4fed-b2f5-8dbc6815709e\">\n",
              "  <button class=\"colab-df-quickchart\" onclick=\"quickchart('df-217f258f-f9e6-4fed-b2f5-8dbc6815709e')\"\n",
              "            title=\"Suggest charts\"\n",
              "            style=\"display:none;\">\n",
              "\n",
              "<svg xmlns=\"http://www.w3.org/2000/svg\" height=\"24px\"viewBox=\"0 0 24 24\"\n",
              "     width=\"24px\">\n",
              "    <g>\n",
              "        <path d=\"M19 3H5c-1.1 0-2 .9-2 2v14c0 1.1.9 2 2 2h14c1.1 0 2-.9 2-2V5c0-1.1-.9-2-2-2zM9 17H7v-7h2v7zm4 0h-2V7h2v10zm4 0h-2v-4h2v4z\"/>\n",
              "    </g>\n",
              "</svg>\n",
              "  </button>\n",
              "\n",
              "<style>\n",
              "  .colab-df-quickchart {\n",
              "      --bg-color: #E8F0FE;\n",
              "      --fill-color: #1967D2;\n",
              "      --hover-bg-color: #E2EBFA;\n",
              "      --hover-fill-color: #174EA6;\n",
              "      --disabled-fill-color: #AAA;\n",
              "      --disabled-bg-color: #DDD;\n",
              "  }\n",
              "\n",
              "  [theme=dark] .colab-df-quickchart {\n",
              "      --bg-color: #3B4455;\n",
              "      --fill-color: #D2E3FC;\n",
              "      --hover-bg-color: #434B5C;\n",
              "      --hover-fill-color: #FFFFFF;\n",
              "      --disabled-bg-color: #3B4455;\n",
              "      --disabled-fill-color: #666;\n",
              "  }\n",
              "\n",
              "  .colab-df-quickchart {\n",
              "    background-color: var(--bg-color);\n",
              "    border: none;\n",
              "    border-radius: 50%;\n",
              "    cursor: pointer;\n",
              "    display: none;\n",
              "    fill: var(--fill-color);\n",
              "    height: 32px;\n",
              "    padding: 0;\n",
              "    width: 32px;\n",
              "  }\n",
              "\n",
              "  .colab-df-quickchart:hover {\n",
              "    background-color: var(--hover-bg-color);\n",
              "    box-shadow: 0 1px 2px rgba(60, 64, 67, 0.3), 0 1px 3px 1px rgba(60, 64, 67, 0.15);\n",
              "    fill: var(--button-hover-fill-color);\n",
              "  }\n",
              "\n",
              "  .colab-df-quickchart-complete:disabled,\n",
              "  .colab-df-quickchart-complete:disabled:hover {\n",
              "    background-color: var(--disabled-bg-color);\n",
              "    fill: var(--disabled-fill-color);\n",
              "    box-shadow: none;\n",
              "  }\n",
              "\n",
              "  .colab-df-spinner {\n",
              "    border: 2px solid var(--fill-color);\n",
              "    border-color: transparent;\n",
              "    border-bottom-color: var(--fill-color);\n",
              "    animation:\n",
              "      spin 1s steps(1) infinite;\n",
              "  }\n",
              "\n",
              "  @keyframes spin {\n",
              "    0% {\n",
              "      border-color: transparent;\n",
              "      border-bottom-color: var(--fill-color);\n",
              "      border-left-color: var(--fill-color);\n",
              "    }\n",
              "    20% {\n",
              "      border-color: transparent;\n",
              "      border-left-color: var(--fill-color);\n",
              "      border-top-color: var(--fill-color);\n",
              "    }\n",
              "    30% {\n",
              "      border-color: transparent;\n",
              "      border-left-color: var(--fill-color);\n",
              "      border-top-color: var(--fill-color);\n",
              "      border-right-color: var(--fill-color);\n",
              "    }\n",
              "    40% {\n",
              "      border-color: transparent;\n",
              "      border-right-color: var(--fill-color);\n",
              "      border-top-color: var(--fill-color);\n",
              "    }\n",
              "    60% {\n",
              "      border-color: transparent;\n",
              "      border-right-color: var(--fill-color);\n",
              "    }\n",
              "    80% {\n",
              "      border-color: transparent;\n",
              "      border-right-color: var(--fill-color);\n",
              "      border-bottom-color: var(--fill-color);\n",
              "    }\n",
              "    90% {\n",
              "      border-color: transparent;\n",
              "      border-bottom-color: var(--fill-color);\n",
              "    }\n",
              "  }\n",
              "</style>\n",
              "\n",
              "  <script>\n",
              "    async function quickchart(key) {\n",
              "      const quickchartButtonEl =\n",
              "        document.querySelector('#' + key + ' button');\n",
              "      quickchartButtonEl.disabled = true;  // To prevent multiple clicks.\n",
              "      quickchartButtonEl.classList.add('colab-df-spinner');\n",
              "      try {\n",
              "        const charts = await google.colab.kernel.invokeFunction(\n",
              "            'suggestCharts', [key], {});\n",
              "      } catch (error) {\n",
              "        console.error('Error during call to suggestCharts:', error);\n",
              "      }\n",
              "      quickchartButtonEl.classList.remove('colab-df-spinner');\n",
              "      quickchartButtonEl.classList.add('colab-df-quickchart-complete');\n",
              "    }\n",
              "    (() => {\n",
              "      let quickchartButtonEl =\n",
              "        document.querySelector('#df-217f258f-f9e6-4fed-b2f5-8dbc6815709e button');\n",
              "      quickchartButtonEl.style.display =\n",
              "        google.colab.kernel.accessAllowed ? 'block' : 'none';\n",
              "    })();\n",
              "  </script>\n",
              "</div>\n",
              "\n",
              "    </div>\n",
              "  </div>\n"
            ]
          },
          "metadata": {},
          "execution_count": 19
        }
      ]
    },
    {
      "cell_type": "code",
      "source": [
        "data.tail()"
      ],
      "metadata": {
        "colab": {
          "base_uri": "https://localhost:8080/",
          "height": 206
        },
        "id": "gX_8ql6rkC2c",
        "outputId": "d110df50-aaa2-4bad-ee14-08734eaee34f"
      },
      "execution_count": 20,
      "outputs": [
        {
          "output_type": "execute_result",
          "data": {
            "text/plain": [
              "    Index   Age     Salary  Rating       Location  Established Easy Apply\n",
              "24     24  13.0  $44k-$99k    -1.0    New York,Ny         1987         -1\n",
              "25     25  55.0  $44k-$99k     0.0  Australia Aus         1980       TRUE\n",
              "26     26   NaN  $55k-$66k     NaN       India,In         1934       TRUE\n",
              "27     27  52.0  $44k-$99k     5.4       India,In         1935         -1\n",
              "28     28   NaN  $39k-$88k     3.4  Australia Aus         1932         -1"
            ],
            "text/html": [
              "\n",
              "  <div id=\"df-7d0a7751-e953-4dbf-85cb-96619e516623\" class=\"colab-df-container\">\n",
              "    <div>\n",
              "<style scoped>\n",
              "    .dataframe tbody tr th:only-of-type {\n",
              "        vertical-align: middle;\n",
              "    }\n",
              "\n",
              "    .dataframe tbody tr th {\n",
              "        vertical-align: top;\n",
              "    }\n",
              "\n",
              "    .dataframe thead th {\n",
              "        text-align: right;\n",
              "    }\n",
              "</style>\n",
              "<table border=\"1\" class=\"dataframe\">\n",
              "  <thead>\n",
              "    <tr style=\"text-align: right;\">\n",
              "      <th></th>\n",
              "      <th>Index</th>\n",
              "      <th>Age</th>\n",
              "      <th>Salary</th>\n",
              "      <th>Rating</th>\n",
              "      <th>Location</th>\n",
              "      <th>Established</th>\n",
              "      <th>Easy Apply</th>\n",
              "    </tr>\n",
              "  </thead>\n",
              "  <tbody>\n",
              "    <tr>\n",
              "      <th>24</th>\n",
              "      <td>24</td>\n",
              "      <td>13.0</td>\n",
              "      <td>$44k-$99k</td>\n",
              "      <td>-1.0</td>\n",
              "      <td>New York,Ny</td>\n",
              "      <td>1987</td>\n",
              "      <td>-1</td>\n",
              "    </tr>\n",
              "    <tr>\n",
              "      <th>25</th>\n",
              "      <td>25</td>\n",
              "      <td>55.0</td>\n",
              "      <td>$44k-$99k</td>\n",
              "      <td>0.0</td>\n",
              "      <td>Australia Aus</td>\n",
              "      <td>1980</td>\n",
              "      <td>TRUE</td>\n",
              "    </tr>\n",
              "    <tr>\n",
              "      <th>26</th>\n",
              "      <td>26</td>\n",
              "      <td>NaN</td>\n",
              "      <td>$55k-$66k</td>\n",
              "      <td>NaN</td>\n",
              "      <td>India,In</td>\n",
              "      <td>1934</td>\n",
              "      <td>TRUE</td>\n",
              "    </tr>\n",
              "    <tr>\n",
              "      <th>27</th>\n",
              "      <td>27</td>\n",
              "      <td>52.0</td>\n",
              "      <td>$44k-$99k</td>\n",
              "      <td>5.4</td>\n",
              "      <td>India,In</td>\n",
              "      <td>1935</td>\n",
              "      <td>-1</td>\n",
              "    </tr>\n",
              "    <tr>\n",
              "      <th>28</th>\n",
              "      <td>28</td>\n",
              "      <td>NaN</td>\n",
              "      <td>$39k-$88k</td>\n",
              "      <td>3.4</td>\n",
              "      <td>Australia Aus</td>\n",
              "      <td>1932</td>\n",
              "      <td>-1</td>\n",
              "    </tr>\n",
              "  </tbody>\n",
              "</table>\n",
              "</div>\n",
              "    <div class=\"colab-df-buttons\">\n",
              "\n",
              "  <div class=\"colab-df-container\">\n",
              "    <button class=\"colab-df-convert\" onclick=\"convertToInteractive('df-7d0a7751-e953-4dbf-85cb-96619e516623')\"\n",
              "            title=\"Convert this dataframe to an interactive table.\"\n",
              "            style=\"display:none;\">\n",
              "\n",
              "  <svg xmlns=\"http://www.w3.org/2000/svg\" height=\"24px\" viewBox=\"0 -960 960 960\">\n",
              "    <path d=\"M120-120v-720h720v720H120Zm60-500h600v-160H180v160Zm220 220h160v-160H400v160Zm0 220h160v-160H400v160ZM180-400h160v-160H180v160Zm440 0h160v-160H620v160ZM180-180h160v-160H180v160Zm440 0h160v-160H620v160Z\"/>\n",
              "  </svg>\n",
              "    </button>\n",
              "\n",
              "  <style>\n",
              "    .colab-df-container {\n",
              "      display:flex;\n",
              "      gap: 12px;\n",
              "    }\n",
              "\n",
              "    .colab-df-convert {\n",
              "      background-color: #E8F0FE;\n",
              "      border: none;\n",
              "      border-radius: 50%;\n",
              "      cursor: pointer;\n",
              "      display: none;\n",
              "      fill: #1967D2;\n",
              "      height: 32px;\n",
              "      padding: 0 0 0 0;\n",
              "      width: 32px;\n",
              "    }\n",
              "\n",
              "    .colab-df-convert:hover {\n",
              "      background-color: #E2EBFA;\n",
              "      box-shadow: 0px 1px 2px rgba(60, 64, 67, 0.3), 0px 1px 3px 1px rgba(60, 64, 67, 0.15);\n",
              "      fill: #174EA6;\n",
              "    }\n",
              "\n",
              "    .colab-df-buttons div {\n",
              "      margin-bottom: 4px;\n",
              "    }\n",
              "\n",
              "    [theme=dark] .colab-df-convert {\n",
              "      background-color: #3B4455;\n",
              "      fill: #D2E3FC;\n",
              "    }\n",
              "\n",
              "    [theme=dark] .colab-df-convert:hover {\n",
              "      background-color: #434B5C;\n",
              "      box-shadow: 0px 1px 3px 1px rgba(0, 0, 0, 0.15);\n",
              "      filter: drop-shadow(0px 1px 2px rgba(0, 0, 0, 0.3));\n",
              "      fill: #FFFFFF;\n",
              "    }\n",
              "  </style>\n",
              "\n",
              "    <script>\n",
              "      const buttonEl =\n",
              "        document.querySelector('#df-7d0a7751-e953-4dbf-85cb-96619e516623 button.colab-df-convert');\n",
              "      buttonEl.style.display =\n",
              "        google.colab.kernel.accessAllowed ? 'block' : 'none';\n",
              "\n",
              "      async function convertToInteractive(key) {\n",
              "        const element = document.querySelector('#df-7d0a7751-e953-4dbf-85cb-96619e516623');\n",
              "        const dataTable =\n",
              "          await google.colab.kernel.invokeFunction('convertToInteractive',\n",
              "                                                    [key], {});\n",
              "        if (!dataTable) return;\n",
              "\n",
              "        const docLinkHtml = 'Like what you see? Visit the ' +\n",
              "          '<a target=\"_blank\" href=https://colab.research.google.com/notebooks/data_table.ipynb>data table notebook</a>'\n",
              "          + ' to learn more about interactive tables.';\n",
              "        element.innerHTML = '';\n",
              "        dataTable['output_type'] = 'display_data';\n",
              "        await google.colab.output.renderOutput(dataTable, element);\n",
              "        const docLink = document.createElement('div');\n",
              "        docLink.innerHTML = docLinkHtml;\n",
              "        element.appendChild(docLink);\n",
              "      }\n",
              "    </script>\n",
              "  </div>\n",
              "\n",
              "\n",
              "<div id=\"df-853a5bba-d633-4006-92f9-a22d5bc3d61c\">\n",
              "  <button class=\"colab-df-quickchart\" onclick=\"quickchart('df-853a5bba-d633-4006-92f9-a22d5bc3d61c')\"\n",
              "            title=\"Suggest charts\"\n",
              "            style=\"display:none;\">\n",
              "\n",
              "<svg xmlns=\"http://www.w3.org/2000/svg\" height=\"24px\"viewBox=\"0 0 24 24\"\n",
              "     width=\"24px\">\n",
              "    <g>\n",
              "        <path d=\"M19 3H5c-1.1 0-2 .9-2 2v14c0 1.1.9 2 2 2h14c1.1 0 2-.9 2-2V5c0-1.1-.9-2-2-2zM9 17H7v-7h2v7zm4 0h-2V7h2v10zm4 0h-2v-4h2v4z\"/>\n",
              "    </g>\n",
              "</svg>\n",
              "  </button>\n",
              "\n",
              "<style>\n",
              "  .colab-df-quickchart {\n",
              "      --bg-color: #E8F0FE;\n",
              "      --fill-color: #1967D2;\n",
              "      --hover-bg-color: #E2EBFA;\n",
              "      --hover-fill-color: #174EA6;\n",
              "      --disabled-fill-color: #AAA;\n",
              "      --disabled-bg-color: #DDD;\n",
              "  }\n",
              "\n",
              "  [theme=dark] .colab-df-quickchart {\n",
              "      --bg-color: #3B4455;\n",
              "      --fill-color: #D2E3FC;\n",
              "      --hover-bg-color: #434B5C;\n",
              "      --hover-fill-color: #FFFFFF;\n",
              "      --disabled-bg-color: #3B4455;\n",
              "      --disabled-fill-color: #666;\n",
              "  }\n",
              "\n",
              "  .colab-df-quickchart {\n",
              "    background-color: var(--bg-color);\n",
              "    border: none;\n",
              "    border-radius: 50%;\n",
              "    cursor: pointer;\n",
              "    display: none;\n",
              "    fill: var(--fill-color);\n",
              "    height: 32px;\n",
              "    padding: 0;\n",
              "    width: 32px;\n",
              "  }\n",
              "\n",
              "  .colab-df-quickchart:hover {\n",
              "    background-color: var(--hover-bg-color);\n",
              "    box-shadow: 0 1px 2px rgba(60, 64, 67, 0.3), 0 1px 3px 1px rgba(60, 64, 67, 0.15);\n",
              "    fill: var(--button-hover-fill-color);\n",
              "  }\n",
              "\n",
              "  .colab-df-quickchart-complete:disabled,\n",
              "  .colab-df-quickchart-complete:disabled:hover {\n",
              "    background-color: var(--disabled-bg-color);\n",
              "    fill: var(--disabled-fill-color);\n",
              "    box-shadow: none;\n",
              "  }\n",
              "\n",
              "  .colab-df-spinner {\n",
              "    border: 2px solid var(--fill-color);\n",
              "    border-color: transparent;\n",
              "    border-bottom-color: var(--fill-color);\n",
              "    animation:\n",
              "      spin 1s steps(1) infinite;\n",
              "  }\n",
              "\n",
              "  @keyframes spin {\n",
              "    0% {\n",
              "      border-color: transparent;\n",
              "      border-bottom-color: var(--fill-color);\n",
              "      border-left-color: var(--fill-color);\n",
              "    }\n",
              "    20% {\n",
              "      border-color: transparent;\n",
              "      border-left-color: var(--fill-color);\n",
              "      border-top-color: var(--fill-color);\n",
              "    }\n",
              "    30% {\n",
              "      border-color: transparent;\n",
              "      border-left-color: var(--fill-color);\n",
              "      border-top-color: var(--fill-color);\n",
              "      border-right-color: var(--fill-color);\n",
              "    }\n",
              "    40% {\n",
              "      border-color: transparent;\n",
              "      border-right-color: var(--fill-color);\n",
              "      border-top-color: var(--fill-color);\n",
              "    }\n",
              "    60% {\n",
              "      border-color: transparent;\n",
              "      border-right-color: var(--fill-color);\n",
              "    }\n",
              "    80% {\n",
              "      border-color: transparent;\n",
              "      border-right-color: var(--fill-color);\n",
              "      border-bottom-color: var(--fill-color);\n",
              "    }\n",
              "    90% {\n",
              "      border-color: transparent;\n",
              "      border-bottom-color: var(--fill-color);\n",
              "    }\n",
              "  }\n",
              "</style>\n",
              "\n",
              "  <script>\n",
              "    async function quickchart(key) {\n",
              "      const quickchartButtonEl =\n",
              "        document.querySelector('#' + key + ' button');\n",
              "      quickchartButtonEl.disabled = true;  // To prevent multiple clicks.\n",
              "      quickchartButtonEl.classList.add('colab-df-spinner');\n",
              "      try {\n",
              "        const charts = await google.colab.kernel.invokeFunction(\n",
              "            'suggestCharts', [key], {});\n",
              "      } catch (error) {\n",
              "        console.error('Error during call to suggestCharts:', error);\n",
              "      }\n",
              "      quickchartButtonEl.classList.remove('colab-df-spinner');\n",
              "      quickchartButtonEl.classList.add('colab-df-quickchart-complete');\n",
              "    }\n",
              "    (() => {\n",
              "      let quickchartButtonEl =\n",
              "        document.querySelector('#df-853a5bba-d633-4006-92f9-a22d5bc3d61c button');\n",
              "      quickchartButtonEl.style.display =\n",
              "        google.colab.kernel.accessAllowed ? 'block' : 'none';\n",
              "    })();\n",
              "  </script>\n",
              "</div>\n",
              "\n",
              "    </div>\n",
              "  </div>\n"
            ]
          },
          "metadata": {},
          "execution_count": 20
        }
      ]
    },
    {
      "cell_type": "code",
      "source": [
        "data.shape"
      ],
      "metadata": {
        "colab": {
          "base_uri": "https://localhost:8080/"
        },
        "id": "WNtifERVkCzj",
        "outputId": "e48b01b6-feb1-462a-e1de-7547986eaffc"
      },
      "execution_count": null,
      "outputs": [
        {
          "output_type": "execute_result",
          "data": {
            "text/plain": [
              "(29, 7)"
            ]
          },
          "metadata": {},
          "execution_count": 14
        }
      ]
    },
    {
      "cell_type": "code",
      "source": [
        "data.info()"
      ],
      "metadata": {
        "colab": {
          "base_uri": "https://localhost:8080/"
        },
        "id": "Z2-eA0r-kCwt",
        "outputId": "3d0abee6-2aa9-424a-a6e2-7903f474dc47"
      },
      "execution_count": 21,
      "outputs": [
        {
          "output_type": "stream",
          "name": "stdout",
          "text": [
            "<class 'pandas.core.frame.DataFrame'>\n",
            "RangeIndex: 29 entries, 0 to 28\n",
            "Data columns (total 7 columns):\n",
            " #   Column       Non-Null Count  Dtype  \n",
            "---  ------       --------------  -----  \n",
            " 0   Index        29 non-null     int64  \n",
            " 1   Age          22 non-null     float64\n",
            " 2   Salary       29 non-null     object \n",
            " 3   Rating       28 non-null     float64\n",
            " 4   Location     29 non-null     object \n",
            " 5   Established  29 non-null     int64  \n",
            " 6   Easy Apply   29 non-null     object \n",
            "dtypes: float64(2), int64(2), object(3)\n",
            "memory usage: 1.7+ KB\n"
          ]
        }
      ]
    },
    {
      "cell_type": "code",
      "source": [
        "missing_values = data.isnull().sum()\n",
        "print(missing_values)"
      ],
      "metadata": {
        "colab": {
          "base_uri": "https://localhost:8080/"
        },
        "id": "L9tnVMQIkCtl",
        "outputId": "a44eb63e-133b-49ef-fb37-079d21662886"
      },
      "execution_count": 22,
      "outputs": [
        {
          "output_type": "stream",
          "name": "stdout",
          "text": [
            "Index          0\n",
            "Age            7\n",
            "Salary         0\n",
            "Rating         1\n",
            "Location       0\n",
            "Established    0\n",
            "Easy Apply     0\n",
            "dtype: int64\n"
          ]
        }
      ]
    },
    {
      "cell_type": "code",
      "source": [
        "data.columns"
      ],
      "metadata": {
        "colab": {
          "base_uri": "https://localhost:8080/"
        },
        "id": "GoCOWWFMkCq8",
        "outputId": "c48212a4-8d1d-4c80-930b-0db14b367de2"
      },
      "execution_count": 23,
      "outputs": [
        {
          "output_type": "execute_result",
          "data": {
            "text/plain": [
              "Index(['Index', 'Age', 'Salary', 'Rating', 'Location', 'Established',\n",
              "       'Easy Apply'],\n",
              "      dtype='object')"
            ]
          },
          "metadata": {},
          "execution_count": 23
        }
      ]
    },
    {
      "cell_type": "code",
      "source": [
        "sample = data.columns.str.lower().str.replace(\" \",\"_\")"
      ],
      "metadata": {
        "id": "J99HGe43kCoG"
      },
      "execution_count": 24,
      "outputs": []
    },
    {
      "cell_type": "code",
      "source": [
        "text = '$40k-$100k'\n",
        "text.replace('$',\"\")"
      ],
      "metadata": {
        "colab": {
          "base_uri": "https://localhost:8080/",
          "height": 35
        },
        "id": "T9ha3yI1rZcV",
        "outputId": "e685ca2c-7101-441f-f13f-c4b639835071"
      },
      "execution_count": 25,
      "outputs": [
        {
          "output_type": "execute_result",
          "data": {
            "text/plain": [
              "'40k-100k'"
            ],
            "application/vnd.google.colaboratory.intrinsic+json": {
              "type": "string"
            }
          },
          "metadata": {},
          "execution_count": 25
        }
      ]
    },
    {
      "cell_type": "markdown",
      "source": [
        "40-100\n",
        "\n",
        "40000-100000"
      ],
      "metadata": {
        "id": "4jPs79EUryC-"
      }
    },
    {
      "cell_type": "code",
      "source": [
        "sample"
      ],
      "metadata": {
        "colab": {
          "base_uri": "https://localhost:8080/"
        },
        "id": "USWsISytkCiM",
        "outputId": "f221bbb2-f768-420e-9e89-5506b40acf25"
      },
      "execution_count": 26,
      "outputs": [
        {
          "output_type": "execute_result",
          "data": {
            "text/plain": [
              "Index(['index', 'age', 'salary', 'rating', 'location', 'established',\n",
              "       'easy_apply'],\n",
              "      dtype='object')"
            ]
          },
          "metadata": {},
          "execution_count": 26
        }
      ]
    },
    {
      "cell_type": "markdown",
      "source": [
        "## Age column"
      ],
      "metadata": {
        "id": "-cKAlD3Ynfrb"
      }
    },
    {
      "cell_type": "code",
      "source": [
        "avg_age = data['Age'].mean()\n",
        "avg_age"
      ],
      "metadata": {
        "colab": {
          "base_uri": "https://localhost:8080/"
        },
        "id": "-VyMVTPynnn9",
        "outputId": "c146e74b-74f8-46e8-81a5-7a72d0ea8e4e"
      },
      "execution_count": 27,
      "outputs": [
        {
          "output_type": "execute_result",
          "data": {
            "text/plain": [
              "39.04545454545455"
            ]
          },
          "metadata": {},
          "execution_count": 27
        }
      ]
    },
    {
      "cell_type": "code",
      "source": [
        "# fill the missing values with mean\n",
        "data['Age'] = data.Age.fillna(avg_age)\n",
        "data['Age'] = data.Age.round(decimals=1)"
      ],
      "metadata": {
        "id": "9E0aQJTrn-9n"
      },
      "execution_count": 28,
      "outputs": []
    },
    {
      "cell_type": "code",
      "source": [
        "data.head()"
      ],
      "metadata": {
        "colab": {
          "base_uri": "https://localhost:8080/",
          "height": 206
        },
        "id": "U7ssynbGopEA",
        "outputId": "df5a89bc-aba4-4af1-a134-bbe0e6598606"
      },
      "execution_count": 29,
      "outputs": [
        {
          "output_type": "execute_result",
          "data": {
            "text/plain": [
              "   Index   Age     Salary  Rating       Location  Established Easy Apply\n",
              "0      0  44.0  $44k-$99k     5.4       India,In         1999       TRUE\n",
              "1      1  66.0  $55k-$66k     3.5    New York,Ny         2002       TRUE\n",
              "2      2  39.0  $77k-$89k    -1.0    New York,Ny           -1         -1\n",
              "3      3  64.0  $44k-$99k     4.4       India In         1988         -1\n",
              "4      4  25.0  $44k-$99k     6.4  Australia Aus         2002         -1"
            ],
            "text/html": [
              "\n",
              "  <div id=\"df-0ed5c525-8823-4033-8d37-1d43be76418e\" class=\"colab-df-container\">\n",
              "    <div>\n",
              "<style scoped>\n",
              "    .dataframe tbody tr th:only-of-type {\n",
              "        vertical-align: middle;\n",
              "    }\n",
              "\n",
              "    .dataframe tbody tr th {\n",
              "        vertical-align: top;\n",
              "    }\n",
              "\n",
              "    .dataframe thead th {\n",
              "        text-align: right;\n",
              "    }\n",
              "</style>\n",
              "<table border=\"1\" class=\"dataframe\">\n",
              "  <thead>\n",
              "    <tr style=\"text-align: right;\">\n",
              "      <th></th>\n",
              "      <th>Index</th>\n",
              "      <th>Age</th>\n",
              "      <th>Salary</th>\n",
              "      <th>Rating</th>\n",
              "      <th>Location</th>\n",
              "      <th>Established</th>\n",
              "      <th>Easy Apply</th>\n",
              "    </tr>\n",
              "  </thead>\n",
              "  <tbody>\n",
              "    <tr>\n",
              "      <th>0</th>\n",
              "      <td>0</td>\n",
              "      <td>44.0</td>\n",
              "      <td>$44k-$99k</td>\n",
              "      <td>5.4</td>\n",
              "      <td>India,In</td>\n",
              "      <td>1999</td>\n",
              "      <td>TRUE</td>\n",
              "    </tr>\n",
              "    <tr>\n",
              "      <th>1</th>\n",
              "      <td>1</td>\n",
              "      <td>66.0</td>\n",
              "      <td>$55k-$66k</td>\n",
              "      <td>3.5</td>\n",
              "      <td>New York,Ny</td>\n",
              "      <td>2002</td>\n",
              "      <td>TRUE</td>\n",
              "    </tr>\n",
              "    <tr>\n",
              "      <th>2</th>\n",
              "      <td>2</td>\n",
              "      <td>39.0</td>\n",
              "      <td>$77k-$89k</td>\n",
              "      <td>-1.0</td>\n",
              "      <td>New York,Ny</td>\n",
              "      <td>-1</td>\n",
              "      <td>-1</td>\n",
              "    </tr>\n",
              "    <tr>\n",
              "      <th>3</th>\n",
              "      <td>3</td>\n",
              "      <td>64.0</td>\n",
              "      <td>$44k-$99k</td>\n",
              "      <td>4.4</td>\n",
              "      <td>India In</td>\n",
              "      <td>1988</td>\n",
              "      <td>-1</td>\n",
              "    </tr>\n",
              "    <tr>\n",
              "      <th>4</th>\n",
              "      <td>4</td>\n",
              "      <td>25.0</td>\n",
              "      <td>$44k-$99k</td>\n",
              "      <td>6.4</td>\n",
              "      <td>Australia Aus</td>\n",
              "      <td>2002</td>\n",
              "      <td>-1</td>\n",
              "    </tr>\n",
              "  </tbody>\n",
              "</table>\n",
              "</div>\n",
              "    <div class=\"colab-df-buttons\">\n",
              "\n",
              "  <div class=\"colab-df-container\">\n",
              "    <button class=\"colab-df-convert\" onclick=\"convertToInteractive('df-0ed5c525-8823-4033-8d37-1d43be76418e')\"\n",
              "            title=\"Convert this dataframe to an interactive table.\"\n",
              "            style=\"display:none;\">\n",
              "\n",
              "  <svg xmlns=\"http://www.w3.org/2000/svg\" height=\"24px\" viewBox=\"0 -960 960 960\">\n",
              "    <path d=\"M120-120v-720h720v720H120Zm60-500h600v-160H180v160Zm220 220h160v-160H400v160Zm0 220h160v-160H400v160ZM180-400h160v-160H180v160Zm440 0h160v-160H620v160ZM180-180h160v-160H180v160Zm440 0h160v-160H620v160Z\"/>\n",
              "  </svg>\n",
              "    </button>\n",
              "\n",
              "  <style>\n",
              "    .colab-df-container {\n",
              "      display:flex;\n",
              "      gap: 12px;\n",
              "    }\n",
              "\n",
              "    .colab-df-convert {\n",
              "      background-color: #E8F0FE;\n",
              "      border: none;\n",
              "      border-radius: 50%;\n",
              "      cursor: pointer;\n",
              "      display: none;\n",
              "      fill: #1967D2;\n",
              "      height: 32px;\n",
              "      padding: 0 0 0 0;\n",
              "      width: 32px;\n",
              "    }\n",
              "\n",
              "    .colab-df-convert:hover {\n",
              "      background-color: #E2EBFA;\n",
              "      box-shadow: 0px 1px 2px rgba(60, 64, 67, 0.3), 0px 1px 3px 1px rgba(60, 64, 67, 0.15);\n",
              "      fill: #174EA6;\n",
              "    }\n",
              "\n",
              "    .colab-df-buttons div {\n",
              "      margin-bottom: 4px;\n",
              "    }\n",
              "\n",
              "    [theme=dark] .colab-df-convert {\n",
              "      background-color: #3B4455;\n",
              "      fill: #D2E3FC;\n",
              "    }\n",
              "\n",
              "    [theme=dark] .colab-df-convert:hover {\n",
              "      background-color: #434B5C;\n",
              "      box-shadow: 0px 1px 3px 1px rgba(0, 0, 0, 0.15);\n",
              "      filter: drop-shadow(0px 1px 2px rgba(0, 0, 0, 0.3));\n",
              "      fill: #FFFFFF;\n",
              "    }\n",
              "  </style>\n",
              "\n",
              "    <script>\n",
              "      const buttonEl =\n",
              "        document.querySelector('#df-0ed5c525-8823-4033-8d37-1d43be76418e button.colab-df-convert');\n",
              "      buttonEl.style.display =\n",
              "        google.colab.kernel.accessAllowed ? 'block' : 'none';\n",
              "\n",
              "      async function convertToInteractive(key) {\n",
              "        const element = document.querySelector('#df-0ed5c525-8823-4033-8d37-1d43be76418e');\n",
              "        const dataTable =\n",
              "          await google.colab.kernel.invokeFunction('convertToInteractive',\n",
              "                                                    [key], {});\n",
              "        if (!dataTable) return;\n",
              "\n",
              "        const docLinkHtml = 'Like what you see? Visit the ' +\n",
              "          '<a target=\"_blank\" href=https://colab.research.google.com/notebooks/data_table.ipynb>data table notebook</a>'\n",
              "          + ' to learn more about interactive tables.';\n",
              "        element.innerHTML = '';\n",
              "        dataTable['output_type'] = 'display_data';\n",
              "        await google.colab.output.renderOutput(dataTable, element);\n",
              "        const docLink = document.createElement('div');\n",
              "        docLink.innerHTML = docLinkHtml;\n",
              "        element.appendChild(docLink);\n",
              "      }\n",
              "    </script>\n",
              "  </div>\n",
              "\n",
              "\n",
              "<div id=\"df-5b489078-c850-4fa4-91c1-d0a892a2d8d2\">\n",
              "  <button class=\"colab-df-quickchart\" onclick=\"quickchart('df-5b489078-c850-4fa4-91c1-d0a892a2d8d2')\"\n",
              "            title=\"Suggest charts\"\n",
              "            style=\"display:none;\">\n",
              "\n",
              "<svg xmlns=\"http://www.w3.org/2000/svg\" height=\"24px\"viewBox=\"0 0 24 24\"\n",
              "     width=\"24px\">\n",
              "    <g>\n",
              "        <path d=\"M19 3H5c-1.1 0-2 .9-2 2v14c0 1.1.9 2 2 2h14c1.1 0 2-.9 2-2V5c0-1.1-.9-2-2-2zM9 17H7v-7h2v7zm4 0h-2V7h2v10zm4 0h-2v-4h2v4z\"/>\n",
              "    </g>\n",
              "</svg>\n",
              "  </button>\n",
              "\n",
              "<style>\n",
              "  .colab-df-quickchart {\n",
              "      --bg-color: #E8F0FE;\n",
              "      --fill-color: #1967D2;\n",
              "      --hover-bg-color: #E2EBFA;\n",
              "      --hover-fill-color: #174EA6;\n",
              "      --disabled-fill-color: #AAA;\n",
              "      --disabled-bg-color: #DDD;\n",
              "  }\n",
              "\n",
              "  [theme=dark] .colab-df-quickchart {\n",
              "      --bg-color: #3B4455;\n",
              "      --fill-color: #D2E3FC;\n",
              "      --hover-bg-color: #434B5C;\n",
              "      --hover-fill-color: #FFFFFF;\n",
              "      --disabled-bg-color: #3B4455;\n",
              "      --disabled-fill-color: #666;\n",
              "  }\n",
              "\n",
              "  .colab-df-quickchart {\n",
              "    background-color: var(--bg-color);\n",
              "    border: none;\n",
              "    border-radius: 50%;\n",
              "    cursor: pointer;\n",
              "    display: none;\n",
              "    fill: var(--fill-color);\n",
              "    height: 32px;\n",
              "    padding: 0;\n",
              "    width: 32px;\n",
              "  }\n",
              "\n",
              "  .colab-df-quickchart:hover {\n",
              "    background-color: var(--hover-bg-color);\n",
              "    box-shadow: 0 1px 2px rgba(60, 64, 67, 0.3), 0 1px 3px 1px rgba(60, 64, 67, 0.15);\n",
              "    fill: var(--button-hover-fill-color);\n",
              "  }\n",
              "\n",
              "  .colab-df-quickchart-complete:disabled,\n",
              "  .colab-df-quickchart-complete:disabled:hover {\n",
              "    background-color: var(--disabled-bg-color);\n",
              "    fill: var(--disabled-fill-color);\n",
              "    box-shadow: none;\n",
              "  }\n",
              "\n",
              "  .colab-df-spinner {\n",
              "    border: 2px solid var(--fill-color);\n",
              "    border-color: transparent;\n",
              "    border-bottom-color: var(--fill-color);\n",
              "    animation:\n",
              "      spin 1s steps(1) infinite;\n",
              "  }\n",
              "\n",
              "  @keyframes spin {\n",
              "    0% {\n",
              "      border-color: transparent;\n",
              "      border-bottom-color: var(--fill-color);\n",
              "      border-left-color: var(--fill-color);\n",
              "    }\n",
              "    20% {\n",
              "      border-color: transparent;\n",
              "      border-left-color: var(--fill-color);\n",
              "      border-top-color: var(--fill-color);\n",
              "    }\n",
              "    30% {\n",
              "      border-color: transparent;\n",
              "      border-left-color: var(--fill-color);\n",
              "      border-top-color: var(--fill-color);\n",
              "      border-right-color: var(--fill-color);\n",
              "    }\n",
              "    40% {\n",
              "      border-color: transparent;\n",
              "      border-right-color: var(--fill-color);\n",
              "      border-top-color: var(--fill-color);\n",
              "    }\n",
              "    60% {\n",
              "      border-color: transparent;\n",
              "      border-right-color: var(--fill-color);\n",
              "    }\n",
              "    80% {\n",
              "      border-color: transparent;\n",
              "      border-right-color: var(--fill-color);\n",
              "      border-bottom-color: var(--fill-color);\n",
              "    }\n",
              "    90% {\n",
              "      border-color: transparent;\n",
              "      border-bottom-color: var(--fill-color);\n",
              "    }\n",
              "  }\n",
              "</style>\n",
              "\n",
              "  <script>\n",
              "    async function quickchart(key) {\n",
              "      const quickchartButtonEl =\n",
              "        document.querySelector('#' + key + ' button');\n",
              "      quickchartButtonEl.disabled = true;  // To prevent multiple clicks.\n",
              "      quickchartButtonEl.classList.add('colab-df-spinner');\n",
              "      try {\n",
              "        const charts = await google.colab.kernel.invokeFunction(\n",
              "            'suggestCharts', [key], {});\n",
              "      } catch (error) {\n",
              "        console.error('Error during call to suggestCharts:', error);\n",
              "      }\n",
              "      quickchartButtonEl.classList.remove('colab-df-spinner');\n",
              "      quickchartButtonEl.classList.add('colab-df-quickchart-complete');\n",
              "    }\n",
              "    (() => {\n",
              "      let quickchartButtonEl =\n",
              "        document.querySelector('#df-5b489078-c850-4fa4-91c1-d0a892a2d8d2 button');\n",
              "      quickchartButtonEl.style.display =\n",
              "        google.colab.kernel.accessAllowed ? 'block' : 'none';\n",
              "    })();\n",
              "  </script>\n",
              "</div>\n",
              "\n",
              "    </div>\n",
              "  </div>\n"
            ]
          },
          "metadata": {},
          "execution_count": 29
        }
      ]
    },
    {
      "cell_type": "code",
      "source": [
        "data['Age']"
      ],
      "metadata": {
        "colab": {
          "base_uri": "https://localhost:8080/"
        },
        "id": "IMiHaHkZkCfQ",
        "outputId": "97e34a69-cfb6-4de2-a4d0-19d979a0ffad"
      },
      "execution_count": 30,
      "outputs": [
        {
          "output_type": "execute_result",
          "data": {
            "text/plain": [
              "0     44.0\n",
              "1     66.0\n",
              "2     39.0\n",
              "3     64.0\n",
              "4     25.0\n",
              "5     44.0\n",
              "6     21.0\n",
              "7     44.0\n",
              "8     35.0\n",
              "9     22.0\n",
              "10    55.0\n",
              "11    44.0\n",
              "12    39.0\n",
              "13    25.0\n",
              "14    66.0\n",
              "15    44.0\n",
              "16    19.0\n",
              "17    39.0\n",
              "18    35.0\n",
              "19    32.0\n",
              "20    39.0\n",
              "21    35.0\n",
              "22    19.0\n",
              "23    39.0\n",
              "24    13.0\n",
              "25    55.0\n",
              "26    39.0\n",
              "27    52.0\n",
              "28    39.0\n",
              "Name: Age, dtype: float64"
            ]
          },
          "metadata": {},
          "execution_count": 30
        }
      ]
    },
    {
      "cell_type": "markdown",
      "source": [
        "Replace"
      ],
      "metadata": {
        "id": "S_7iTWkZp_Vt"
      }
    },
    {
      "cell_type": "code",
      "source": [
        "data['Location'].value_counts()"
      ],
      "metadata": {
        "colab": {
          "base_uri": "https://localhost:8080/"
        },
        "id": "SqBgI2IqCauH",
        "outputId": "0fee3cc1-962f-4f2b-9c57-97cd34b72962"
      },
      "execution_count": 31,
      "outputs": [
        {
          "output_type": "execute_result",
          "data": {
            "text/plain": [
              "New York,Ny      12\n",
              "India,In          9\n",
              "Australia Aus     7\n",
              "India In          1\n",
              "Name: Location, dtype: int64"
            ]
          },
          "metadata": {},
          "execution_count": 31
        }
      ]
    },
    {
      "cell_type": "code",
      "source": [
        "data['Location'] = data['Location'].replace({'New York,Ny':'New York', 'India,In':'India','India In':'India', 'Australia Aus':'Australia'})"
      ],
      "metadata": {
        "id": "qIZ5N5fbCQ35"
      },
      "execution_count": 32,
      "outputs": []
    },
    {
      "cell_type": "markdown",
      "source": [
        "```\n",
        "# 1. Missing Values:"
      ],
      "metadata": {
        "id": "esRiiEhtCQea"
      }
    },
    {
      "cell_type": "code",
      "source": [
        "# Remove rows with any missing values\n",
        "data_cleaned = data.dropna()"
      ],
      "metadata": {
        "id": "laZ4XXZUDmT5"
      },
      "execution_count": null,
      "outputs": []
    },
    {
      "cell_type": "code",
      "source": [
        "# Impute missing values with the mean of each column\n",
        "data['Age'].fillna(data['Age'].mean(), inplace=True)\n"
      ],
      "metadata": {
        "id": "wp02Pqqd5YWt"
      },
      "execution_count": 33,
      "outputs": []
    },
    {
      "cell_type": "code",
      "source": [
        "# Convert salary ranges to numerical values (average)\n",
        "import re\n",
        "data['Salary'] = data['Salary'].astype(str).apply(lambda x: np.mean([int(s) for s in re.sub('[^0-9]', '', x).split('-')]))\n",
        "data['Salary'].fillna(data['Salary'].median(), inplace=True)\n"
      ],
      "metadata": {
        "id": "eERkwckG-ZiC"
      },
      "execution_count": 34,
      "outputs": []
    },
    {
      "cell_type": "code",
      "source": [
        "data['Rating'].fillna(data['Rating'].mean(), inplace=True)\n"
      ],
      "metadata": {
        "id": "Y1PKPA14_onw"
      },
      "execution_count": 35,
      "outputs": []
    },
    {
      "cell_type": "code",
      "source": [
        "data['Location'].fillna(data['Location'].mode()[0], inplace=True)\n"
      ],
      "metadata": {
        "id": "QRBVdGTg_wPs"
      },
      "execution_count": 36,
      "outputs": []
    },
    {
      "cell_type": "code",
      "source": [
        "data['Established'].fillna(data['Established'].median(), inplace=True)\n",
        "data['Established'] = data['Established'].apply(lambda x: abs(x) if x < 0 else x)\n"
      ],
      "metadata": {
        "id": "tqBWDSmKAK_J"
      },
      "execution_count": 37,
      "outputs": []
    },
    {
      "cell_type": "code",
      "source": [
        "data['Easy Apply'].fillna(data['Easy Apply'].mode()[0], inplace=True)\n"
      ],
      "metadata": {
        "id": "94HlqiofAWED"
      },
      "execution_count": 38,
      "outputs": []
    },
    {
      "cell_type": "markdown",
      "source": [
        "2. Data types: What are the data types of each indicator, and do they align with their expected types (e.g., numerical, categorical)?"
      ],
      "metadata": {
        "id": "LJjjAciU5tK7"
      }
    },
    {
      "cell_type": "code",
      "source": [
        "data_types = data.dtypes\n",
        "print(data_types)"
      ],
      "metadata": {
        "colab": {
          "base_uri": "https://localhost:8080/"
        },
        "id": "xQxd0x865nXh",
        "outputId": "fd83a90f-598b-4603-d7d2-eae2bc0893ab"
      },
      "execution_count": null,
      "outputs": [
        {
          "output_type": "stream",
          "name": "stdout",
          "text": [
            "Index            int64\n",
            "Age            float64\n",
            "Salary          object\n",
            "Rating         float64\n",
            "Location        object\n",
            "Established      int64\n",
            "Easy Apply      object\n",
            "dtype: object\n"
          ]
        }
      ]
    },
    {
      "cell_type": "code",
      "source": [
        "data['Salary'] = data['Salary'].replace('[\\$,]', '', regex=True).astype(float)\n"
      ],
      "metadata": {
        "id": "3gIfxit26k1m"
      },
      "execution_count": null,
      "outputs": []
    },
    {
      "cell_type": "code",
      "source": [
        "data['Location'] = data['Location'].astype('category')\n"
      ],
      "metadata": {
        "id": "mkvvF0qMBYS-"
      },
      "execution_count": null,
      "outputs": []
    },
    {
      "cell_type": "code",
      "source": [
        "data['Easy Apply'] = data['Easy Apply'].map({'TRUE': True, 'FALSE': False})\n",
        "data['Easy Apply'] = data['Easy Apply'].astype('bool')"
      ],
      "metadata": {
        "id": "ebDx22jEBhMH"
      },
      "execution_count": null,
      "outputs": []
    },
    {
      "cell_type": "code",
      "source": [
        "data_types_updated = data.dtypes\n",
        "print(data_types_updated)\n"
      ],
      "metadata": {
        "colab": {
          "base_uri": "https://localhost:8080/"
        },
        "id": "u5xcsvtABmjb",
        "outputId": "b7cdb33d-879d-4b61-aa4a-7ae848232a48"
      },
      "execution_count": null,
      "outputs": [
        {
          "output_type": "stream",
          "name": "stdout",
          "text": [
            "Index             int64\n",
            "Age             float64\n",
            "Salary          float64\n",
            "Rating          float64\n",
            "Location       category\n",
            "Established       int64\n",
            "Easy Apply         bool\n",
            "dtype: object\n"
          ]
        }
      ]
    },
    {
      "cell_type": "markdown",
      "source": [
        "3. Identify potential outliers in numerical indicators (e.g., Age, Salary, Rating). Should outliers be removed or adjusted?"
      ],
      "metadata": {
        "id": "yjuXYrdHCO6R"
      }
    },
    {
      "cell_type": "code",
      "source": [
        "# Remove rows with outliers\n",
        "Q1 = data[['Age', 'Salary', 'Rating']].quantile(0.25)\n",
        "Q3 = data[['Age', 'Salary', 'Rating']].quantile(0.75)\n",
        "IQR = Q3 - Q1\n",
        "\n",
        "# Identify outliers\n",
        "outliers = ((data[['Age', 'Salary', 'Rating']] < (Q1 - 1.5 * IQR)) | (data[['Age', 'Salary', 'Rating']] > (Q3 + 1.5 * IQR)))\n",
        "\n",
        "# Remove rows with outliers\n",
        "data_no_outliers = data[~outliers.any(axis=1)]"
      ],
      "metadata": {
        "id": "zggH8pxGCuTD"
      },
      "execution_count": null,
      "outputs": []
    },
    {
      "cell_type": "markdown",
      "source": [
        "4. Examine the format of the Salary column. Does it require any formatting or standardization for consistent analysis?\n"
      ],
      "metadata": {
        "id": "F2c88ehjGLg2"
      }
    },
    {
      "cell_type": "code",
      "source": [
        "print(data['Salary'].head())\n"
      ],
      "metadata": {
        "colab": {
          "base_uri": "https://localhost:8080/"
        },
        "id": "SbJ8gvywJVbO",
        "outputId": "be714a43-8cd7-4658-f6c9-40a4ff2afac0"
      },
      "execution_count": null,
      "outputs": [
        {
          "output_type": "stream",
          "name": "stdout",
          "text": [
            "0    715.0\n",
            "1    605.0\n",
            "2    830.0\n",
            "3    715.0\n",
            "4    715.0\n",
            "Name: Salary, dtype: float64\n"
          ]
        }
      ]
    },
    {
      "cell_type": "markdown",
      "source": [
        "5.  Check the consistency of location entries. Do they need standardization, and how can this be achieved?"
      ],
      "metadata": {
        "id": "WplN5d_bPE3y"
      }
    },
    {
      "cell_type": "code",
      "source": [
        "# Standardize location entries by removing spaces and converting to uppercase\n",
        "data['Location'] = data['Location'].str.replace(' ', '').str.upper()\n",
        "print(data['Location'].unique())\n",
        "\n"
      ],
      "metadata": {
        "colab": {
          "base_uri": "https://localhost:8080/"
        },
        "id": "nUn0MLvVPHPN",
        "outputId": "fccbec4e-7268-4a6f-ba37-ab5c4001be4e"
      },
      "execution_count": null,
      "outputs": [
        {
          "output_type": "stream",
          "name": "stdout",
          "text": [
            "['INDIA' 'NEWYORK' 'AUSTRALIA']\n"
          ]
        }
      ]
    },
    {
      "cell_type": "markdown",
      "source": [
        "# 6. Explore the Established column. Are there any inconsistencies or anomalies that need to be addressed?\n",
        "\n",
        "\n"
      ],
      "metadata": {
        "id": "8W-Qve1APlmS"
      }
    },
    {
      "cell_type": "code",
      "source": [
        "print(data['Established'].unique())\n"
      ],
      "metadata": {
        "colab": {
          "base_uri": "https://localhost:8080/"
        },
        "id": "4b0qOg-1P5zS",
        "outputId": "fb7ed181-0e7e-415f-fa8e-031a7e804e84"
      },
      "execution_count": null,
      "outputs": [
        {
          "output_type": "stream",
          "name": "stdout",
          "text": [
            "[1999 2002    1 1988 2008 2009 2019 2020 1984 1943 1954 1955 1944 1946\n",
            " 1987 1980 1934 1935 1932]\n"
          ]
        }
      ]
    },
    {
      "cell_type": "markdown",
      "source": [
        "7. Analyze the Easy Apply column. Does it contain boolean values or need transformation for better analysis?\n"
      ],
      "metadata": {
        "id": "D5fqKdUVQOH8"
      }
    },
    {
      "cell_type": "code",
      "source": [
        "easy_apply_values = data['Easy Apply'].unique()\n",
        "print(easy_apply_values)\n"
      ],
      "metadata": {
        "colab": {
          "base_uri": "https://localhost:8080/"
        },
        "id": "gZ30JHWnQe79",
        "outputId": "b7f4eea0-a80a-48d1-825b-28120e33cc53"
      },
      "execution_count": null,
      "outputs": [
        {
          "output_type": "stream",
          "name": "stdout",
          "text": [
            "[ True]\n"
          ]
        }
      ]
    },
    {
      "cell_type": "markdown",
      "source": [
        " 8. Investigate the range of values in the Rating column. Does it fall within expected rating scales, and how should outliers be treated?\n",
        "\n",
        "\n"
      ],
      "metadata": {
        "id": "6Q0PMQtDRJOW"
      }
    },
    {
      "cell_type": "code",
      "source": [
        "Q1 = data['Rating'].quantile(0.25)\n",
        "Q3 = data['Rating'].quantile(0.75)\n",
        "IQR = Q3 - Q1\n"
      ],
      "metadata": {
        "id": "S0GXtDbTRNCo"
      },
      "execution_count": null,
      "outputs": []
    },
    {
      "cell_type": "code",
      "source": [
        "outliers = (data['Rating'] < (Q1 - 1.5 * IQR)) | (data['Rating'] > (Q3 + 1.5 * IQR))\n",
        "data_no_outliers = data[~outliers]\n",
        "\n"
      ],
      "metadata": {
        "id": "hk2VW1DRRke8"
      },
      "execution_count": null,
      "outputs": []
    },
    {
      "cell_type": "markdown",
      "source": [
        "9.  Check the distribution of values in the Age column. Are there any unusual entries, and how might they impact analysis?"
      ],
      "metadata": {
        "id": "Ud_RmtCXR-zK"
      }
    },
    {
      "cell_type": "code",
      "source": [
        "Q1 = data['Age'].quantile(0.25)\n",
        "Q3 = data['Age'].quantile(0.75)\n",
        "IQR = Q3 - Q1\n",
        "\n",
        "outliers = (data['Age'] < (Q1 - 1.5 * IQR)) | (data['Age'] > (Q3 + 1.5 * IQR))\n",
        "unique_ages = data['Age'].unique()\n",
        "print(unique_ages)\n"
      ],
      "metadata": {
        "colab": {
          "base_uri": "https://localhost:8080/"
        },
        "id": "I-61KGw0ShoK",
        "outputId": "d8f5b538-e066-4ef3-bb61-c93e49ed2e95"
      },
      "execution_count": null,
      "outputs": [
        {
          "output_type": "stream",
          "name": "stdout",
          "text": [
            "[44.         66.         39.04545455 64.         25.         21.\n",
            " 35.         22.         55.         19.         32.         13.\n",
            " 52.        ]\n"
          ]
        }
      ]
    },
    {
      "cell_type": "markdown",
      "source": [
        "10. Examine all text-based columns (e.g., Location). Are there special characters or inconsistencies that need cleaning?\n"
      ],
      "metadata": {
        "id": "fX3IpjSoToJL"
      }
    },
    {
      "cell_type": "code",
      "source": [
        "data['Location'] = data['Location'].str.strip()\n",
        "data['Location'] = data['Location'].replace('[^A-Za-z0-9\\s,]', '', regex=True)\n",
        "data[['Location', 'Salary']]"
      ],
      "metadata": {
        "colab": {
          "base_uri": "https://localhost:8080/",
          "height": 959
        },
        "id": "bGEOwMFBTqBN",
        "outputId": "8e1765ad-5415-4cb5-b997-332019c51961"
      },
      "execution_count": null,
      "outputs": [
        {
          "output_type": "execute_result",
          "data": {
            "text/plain": [
              "     Location  Salary\n",
              "0       INDIA   715.0\n",
              "1     NEWYORK   605.0\n",
              "2     NEWYORK   830.0\n",
              "3       INDIA   715.0\n",
              "4   AUSTRALIA   715.0\n",
              "5       INDIA   830.0\n",
              "6     NEWYORK   715.0\n",
              "7   AUSTRALIA   715.0\n",
              "8     NEWYORK   715.0\n",
              "9       INDIA   715.0\n",
              "10      INDIA   295.0\n",
              "11      INDIA   295.0\n",
              "12      INDIA   715.0\n",
              "13  AUSTRALIA   715.0\n",
              "14  AUSTRALIA   715.0\n",
              "15  AUSTRALIA   945.0\n",
              "16      INDIA   295.0\n",
              "17    NEWYORK   715.0\n",
              "18    NEWYORK   715.0\n",
              "19    NEWYORK   715.0\n",
              "20    NEWYORK   715.0\n",
              "21    NEWYORK   715.0\n",
              "22    NEWYORK   605.0\n",
              "23    NEWYORK   715.0\n",
              "24    NEWYORK   715.0\n",
              "25  AUSTRALIA   715.0\n",
              "26      INDIA   605.0\n",
              "27      INDIA   715.0\n",
              "28  AUSTRALIA   635.0"
            ],
            "text/html": [
              "\n",
              "  <div id=\"df-c930058b-40af-41e3-9d10-402060fc2c09\" class=\"colab-df-container\">\n",
              "    <div>\n",
              "<style scoped>\n",
              "    .dataframe tbody tr th:only-of-type {\n",
              "        vertical-align: middle;\n",
              "    }\n",
              "\n",
              "    .dataframe tbody tr th {\n",
              "        vertical-align: top;\n",
              "    }\n",
              "\n",
              "    .dataframe thead th {\n",
              "        text-align: right;\n",
              "    }\n",
              "</style>\n",
              "<table border=\"1\" class=\"dataframe\">\n",
              "  <thead>\n",
              "    <tr style=\"text-align: right;\">\n",
              "      <th></th>\n",
              "      <th>Location</th>\n",
              "      <th>Salary</th>\n",
              "    </tr>\n",
              "  </thead>\n",
              "  <tbody>\n",
              "    <tr>\n",
              "      <th>0</th>\n",
              "      <td>INDIA</td>\n",
              "      <td>715.0</td>\n",
              "    </tr>\n",
              "    <tr>\n",
              "      <th>1</th>\n",
              "      <td>NEWYORK</td>\n",
              "      <td>605.0</td>\n",
              "    </tr>\n",
              "    <tr>\n",
              "      <th>2</th>\n",
              "      <td>NEWYORK</td>\n",
              "      <td>830.0</td>\n",
              "    </tr>\n",
              "    <tr>\n",
              "      <th>3</th>\n",
              "      <td>INDIA</td>\n",
              "      <td>715.0</td>\n",
              "    </tr>\n",
              "    <tr>\n",
              "      <th>4</th>\n",
              "      <td>AUSTRALIA</td>\n",
              "      <td>715.0</td>\n",
              "    </tr>\n",
              "    <tr>\n",
              "      <th>5</th>\n",
              "      <td>INDIA</td>\n",
              "      <td>830.0</td>\n",
              "    </tr>\n",
              "    <tr>\n",
              "      <th>6</th>\n",
              "      <td>NEWYORK</td>\n",
              "      <td>715.0</td>\n",
              "    </tr>\n",
              "    <tr>\n",
              "      <th>7</th>\n",
              "      <td>AUSTRALIA</td>\n",
              "      <td>715.0</td>\n",
              "    </tr>\n",
              "    <tr>\n",
              "      <th>8</th>\n",
              "      <td>NEWYORK</td>\n",
              "      <td>715.0</td>\n",
              "    </tr>\n",
              "    <tr>\n",
              "      <th>9</th>\n",
              "      <td>INDIA</td>\n",
              "      <td>715.0</td>\n",
              "    </tr>\n",
              "    <tr>\n",
              "      <th>10</th>\n",
              "      <td>INDIA</td>\n",
              "      <td>295.0</td>\n",
              "    </tr>\n",
              "    <tr>\n",
              "      <th>11</th>\n",
              "      <td>INDIA</td>\n",
              "      <td>295.0</td>\n",
              "    </tr>\n",
              "    <tr>\n",
              "      <th>12</th>\n",
              "      <td>INDIA</td>\n",
              "      <td>715.0</td>\n",
              "    </tr>\n",
              "    <tr>\n",
              "      <th>13</th>\n",
              "      <td>AUSTRALIA</td>\n",
              "      <td>715.0</td>\n",
              "    </tr>\n",
              "    <tr>\n",
              "      <th>14</th>\n",
              "      <td>AUSTRALIA</td>\n",
              "      <td>715.0</td>\n",
              "    </tr>\n",
              "    <tr>\n",
              "      <th>15</th>\n",
              "      <td>AUSTRALIA</td>\n",
              "      <td>945.0</td>\n",
              "    </tr>\n",
              "    <tr>\n",
              "      <th>16</th>\n",
              "      <td>INDIA</td>\n",
              "      <td>295.0</td>\n",
              "    </tr>\n",
              "    <tr>\n",
              "      <th>17</th>\n",
              "      <td>NEWYORK</td>\n",
              "      <td>715.0</td>\n",
              "    </tr>\n",
              "    <tr>\n",
              "      <th>18</th>\n",
              "      <td>NEWYORK</td>\n",
              "      <td>715.0</td>\n",
              "    </tr>\n",
              "    <tr>\n",
              "      <th>19</th>\n",
              "      <td>NEWYORK</td>\n",
              "      <td>715.0</td>\n",
              "    </tr>\n",
              "    <tr>\n",
              "      <th>20</th>\n",
              "      <td>NEWYORK</td>\n",
              "      <td>715.0</td>\n",
              "    </tr>\n",
              "    <tr>\n",
              "      <th>21</th>\n",
              "      <td>NEWYORK</td>\n",
              "      <td>715.0</td>\n",
              "    </tr>\n",
              "    <tr>\n",
              "      <th>22</th>\n",
              "      <td>NEWYORK</td>\n",
              "      <td>605.0</td>\n",
              "    </tr>\n",
              "    <tr>\n",
              "      <th>23</th>\n",
              "      <td>NEWYORK</td>\n",
              "      <td>715.0</td>\n",
              "    </tr>\n",
              "    <tr>\n",
              "      <th>24</th>\n",
              "      <td>NEWYORK</td>\n",
              "      <td>715.0</td>\n",
              "    </tr>\n",
              "    <tr>\n",
              "      <th>25</th>\n",
              "      <td>AUSTRALIA</td>\n",
              "      <td>715.0</td>\n",
              "    </tr>\n",
              "    <tr>\n",
              "      <th>26</th>\n",
              "      <td>INDIA</td>\n",
              "      <td>605.0</td>\n",
              "    </tr>\n",
              "    <tr>\n",
              "      <th>27</th>\n",
              "      <td>INDIA</td>\n",
              "      <td>715.0</td>\n",
              "    </tr>\n",
              "    <tr>\n",
              "      <th>28</th>\n",
              "      <td>AUSTRALIA</td>\n",
              "      <td>635.0</td>\n",
              "    </tr>\n",
              "  </tbody>\n",
              "</table>\n",
              "</div>\n",
              "    <div class=\"colab-df-buttons\">\n",
              "\n",
              "  <div class=\"colab-df-container\">\n",
              "    <button class=\"colab-df-convert\" onclick=\"convertToInteractive('df-c930058b-40af-41e3-9d10-402060fc2c09')\"\n",
              "            title=\"Convert this dataframe to an interactive table.\"\n",
              "            style=\"display:none;\">\n",
              "\n",
              "  <svg xmlns=\"http://www.w3.org/2000/svg\" height=\"24px\" viewBox=\"0 -960 960 960\">\n",
              "    <path d=\"M120-120v-720h720v720H120Zm60-500h600v-160H180v160Zm220 220h160v-160H400v160Zm0 220h160v-160H400v160ZM180-400h160v-160H180v160Zm440 0h160v-160H620v160ZM180-180h160v-160H180v160Zm440 0h160v-160H620v160Z\"/>\n",
              "  </svg>\n",
              "    </button>\n",
              "\n",
              "  <style>\n",
              "    .colab-df-container {\n",
              "      display:flex;\n",
              "      gap: 12px;\n",
              "    }\n",
              "\n",
              "    .colab-df-convert {\n",
              "      background-color: #E8F0FE;\n",
              "      border: none;\n",
              "      border-radius: 50%;\n",
              "      cursor: pointer;\n",
              "      display: none;\n",
              "      fill: #1967D2;\n",
              "      height: 32px;\n",
              "      padding: 0 0 0 0;\n",
              "      width: 32px;\n",
              "    }\n",
              "\n",
              "    .colab-df-convert:hover {\n",
              "      background-color: #E2EBFA;\n",
              "      box-shadow: 0px 1px 2px rgba(60, 64, 67, 0.3), 0px 1px 3px 1px rgba(60, 64, 67, 0.15);\n",
              "      fill: #174EA6;\n",
              "    }\n",
              "\n",
              "    .colab-df-buttons div {\n",
              "      margin-bottom: 4px;\n",
              "    }\n",
              "\n",
              "    [theme=dark] .colab-df-convert {\n",
              "      background-color: #3B4455;\n",
              "      fill: #D2E3FC;\n",
              "    }\n",
              "\n",
              "    [theme=dark] .colab-df-convert:hover {\n",
              "      background-color: #434B5C;\n",
              "      box-shadow: 0px 1px 3px 1px rgba(0, 0, 0, 0.15);\n",
              "      filter: drop-shadow(0px 1px 2px rgba(0, 0, 0, 0.3));\n",
              "      fill: #FFFFFF;\n",
              "    }\n",
              "  </style>\n",
              "\n",
              "    <script>\n",
              "      const buttonEl =\n",
              "        document.querySelector('#df-c930058b-40af-41e3-9d10-402060fc2c09 button.colab-df-convert');\n",
              "      buttonEl.style.display =\n",
              "        google.colab.kernel.accessAllowed ? 'block' : 'none';\n",
              "\n",
              "      async function convertToInteractive(key) {\n",
              "        const element = document.querySelector('#df-c930058b-40af-41e3-9d10-402060fc2c09');\n",
              "        const dataTable =\n",
              "          await google.colab.kernel.invokeFunction('convertToInteractive',\n",
              "                                                    [key], {});\n",
              "        if (!dataTable) return;\n",
              "\n",
              "        const docLinkHtml = 'Like what you see? Visit the ' +\n",
              "          '<a target=\"_blank\" href=https://colab.research.google.com/notebooks/data_table.ipynb>data table notebook</a>'\n",
              "          + ' to learn more about interactive tables.';\n",
              "        element.innerHTML = '';\n",
              "        dataTable['output_type'] = 'display_data';\n",
              "        await google.colab.output.renderOutput(dataTable, element);\n",
              "        const docLink = document.createElement('div');\n",
              "        docLink.innerHTML = docLinkHtml;\n",
              "        element.appendChild(docLink);\n",
              "      }\n",
              "    </script>\n",
              "  </div>\n",
              "\n",
              "\n",
              "<div id=\"df-948bd62a-1d20-48bb-8add-7037e01f3b13\">\n",
              "  <button class=\"colab-df-quickchart\" onclick=\"quickchart('df-948bd62a-1d20-48bb-8add-7037e01f3b13')\"\n",
              "            title=\"Suggest charts\"\n",
              "            style=\"display:none;\">\n",
              "\n",
              "<svg xmlns=\"http://www.w3.org/2000/svg\" height=\"24px\"viewBox=\"0 0 24 24\"\n",
              "     width=\"24px\">\n",
              "    <g>\n",
              "        <path d=\"M19 3H5c-1.1 0-2 .9-2 2v14c0 1.1.9 2 2 2h14c1.1 0 2-.9 2-2V5c0-1.1-.9-2-2-2zM9 17H7v-7h2v7zm4 0h-2V7h2v10zm4 0h-2v-4h2v4z\"/>\n",
              "    </g>\n",
              "</svg>\n",
              "  </button>\n",
              "\n",
              "<style>\n",
              "  .colab-df-quickchart {\n",
              "      --bg-color: #E8F0FE;\n",
              "      --fill-color: #1967D2;\n",
              "      --hover-bg-color: #E2EBFA;\n",
              "      --hover-fill-color: #174EA6;\n",
              "      --disabled-fill-color: #AAA;\n",
              "      --disabled-bg-color: #DDD;\n",
              "  }\n",
              "\n",
              "  [theme=dark] .colab-df-quickchart {\n",
              "      --bg-color: #3B4455;\n",
              "      --fill-color: #D2E3FC;\n",
              "      --hover-bg-color: #434B5C;\n",
              "      --hover-fill-color: #FFFFFF;\n",
              "      --disabled-bg-color: #3B4455;\n",
              "      --disabled-fill-color: #666;\n",
              "  }\n",
              "\n",
              "  .colab-df-quickchart {\n",
              "    background-color: var(--bg-color);\n",
              "    border: none;\n",
              "    border-radius: 50%;\n",
              "    cursor: pointer;\n",
              "    display: none;\n",
              "    fill: var(--fill-color);\n",
              "    height: 32px;\n",
              "    padding: 0;\n",
              "    width: 32px;\n",
              "  }\n",
              "\n",
              "  .colab-df-quickchart:hover {\n",
              "    background-color: var(--hover-bg-color);\n",
              "    box-shadow: 0 1px 2px rgba(60, 64, 67, 0.3), 0 1px 3px 1px rgba(60, 64, 67, 0.15);\n",
              "    fill: var(--button-hover-fill-color);\n",
              "  }\n",
              "\n",
              "  .colab-df-quickchart-complete:disabled,\n",
              "  .colab-df-quickchart-complete:disabled:hover {\n",
              "    background-color: var(--disabled-bg-color);\n",
              "    fill: var(--disabled-fill-color);\n",
              "    box-shadow: none;\n",
              "  }\n",
              "\n",
              "  .colab-df-spinner {\n",
              "    border: 2px solid var(--fill-color);\n",
              "    border-color: transparent;\n",
              "    border-bottom-color: var(--fill-color);\n",
              "    animation:\n",
              "      spin 1s steps(1) infinite;\n",
              "  }\n",
              "\n",
              "  @keyframes spin {\n",
              "    0% {\n",
              "      border-color: transparent;\n",
              "      border-bottom-color: var(--fill-color);\n",
              "      border-left-color: var(--fill-color);\n",
              "    }\n",
              "    20% {\n",
              "      border-color: transparent;\n",
              "      border-left-color: var(--fill-color);\n",
              "      border-top-color: var(--fill-color);\n",
              "    }\n",
              "    30% {\n",
              "      border-color: transparent;\n",
              "      border-left-color: var(--fill-color);\n",
              "      border-top-color: var(--fill-color);\n",
              "      border-right-color: var(--fill-color);\n",
              "    }\n",
              "    40% {\n",
              "      border-color: transparent;\n",
              "      border-right-color: var(--fill-color);\n",
              "      border-top-color: var(--fill-color);\n",
              "    }\n",
              "    60% {\n",
              "      border-color: transparent;\n",
              "      border-right-color: var(--fill-color);\n",
              "    }\n",
              "    80% {\n",
              "      border-color: transparent;\n",
              "      border-right-color: var(--fill-color);\n",
              "      border-bottom-color: var(--fill-color);\n",
              "    }\n",
              "    90% {\n",
              "      border-color: transparent;\n",
              "      border-bottom-color: var(--fill-color);\n",
              "    }\n",
              "  }\n",
              "</style>\n",
              "\n",
              "  <script>\n",
              "    async function quickchart(key) {\n",
              "      const quickchartButtonEl =\n",
              "        document.querySelector('#' + key + ' button');\n",
              "      quickchartButtonEl.disabled = true;  // To prevent multiple clicks.\n",
              "      quickchartButtonEl.classList.add('colab-df-spinner');\n",
              "      try {\n",
              "        const charts = await google.colab.kernel.invokeFunction(\n",
              "            'suggestCharts', [key], {});\n",
              "      } catch (error) {\n",
              "        console.error('Error during call to suggestCharts:', error);\n",
              "      }\n",
              "      quickchartButtonEl.classList.remove('colab-df-spinner');\n",
              "      quickchartButtonEl.classList.add('colab-df-quickchart-complete');\n",
              "    }\n",
              "    (() => {\n",
              "      let quickchartButtonEl =\n",
              "        document.querySelector('#df-948bd62a-1d20-48bb-8add-7037e01f3b13 button');\n",
              "      quickchartButtonEl.style.display =\n",
              "        google.colab.kernel.accessAllowed ? 'block' : 'none';\n",
              "    })();\n",
              "  </script>\n",
              "</div>\n",
              "\n",
              "    </div>\n",
              "  </div>\n"
            ]
          },
          "metadata": {},
          "execution_count": 77
        }
      ]
    },
    {
      "cell_type": "markdown",
      "source": [
        "11. Ensure data integrity by cross-referencing entries. For instance, does the Established column align with the Age column?\n"
      ],
      "metadata": {
        "id": "dC82auzhUKPX"
      }
    },
    {
      "cell_type": "code",
      "source": [
        "import datetime\n",
        "\n",
        "# Check if Established aligns with Age based on the current year\n",
        "current_year = datetime.datetime.now().year\n",
        "\n",
        "# Calculate the expected age based on the Established column\n",
        "data['Expected_Age'] = current_year - data['Established']\n",
        "\n",
        "# Compare Expected_Age with the Age column\n",
        "mismatched_entries = data[data['Expected_Age'] != data['Age']]\n",
        "\n",
        "# Display mismatched entries\n",
        "print(\"Mismatched Entries:\")\n",
        "print(mismatched_entries[['Established', 'Age', 'Expected_Age']])\n"
      ],
      "metadata": {
        "id": "fbtqp9k5WdmR"
      },
      "execution_count": null,
      "outputs": []
    },
    {
      "cell_type": "markdown",
      "source": [
        "12. If the Easy Apply column contains non-boolean values, how can it be transformed into a usable format?\n",
        "\n",
        "\n"
      ],
      "metadata": {
        "id": "CarQbk5oL0-2"
      }
    },
    {
      "cell_type": "code",
      "source": [
        "# Display unique values in the \"Easy Apply\" column\n",
        "print(\"Unique values in Easy Apply:\", data['Easy Apply'].unique())\n",
        "\n",
        "# Map non-boolean values to boolean values\n",
        "data['Easy Apply'] = data['Easy Apply'].map({'YES': True, 'NO': False, 'Y': True, 'N': False})\n",
        "\n",
        "# Display updated unique values in the \"Easy Apply\" column\n",
        "print(\"Updated unique values in Easy Apply:\", data['Easy Apply'].unique())\n"
      ],
      "metadata": {
        "colab": {
          "base_uri": "https://localhost:8080/"
        },
        "id": "CdLtKqrtL6NM",
        "outputId": "1568c132-a591-416e-e21b-1b6cc06cd1f6"
      },
      "execution_count": 7,
      "outputs": [
        {
          "output_type": "stream",
          "name": "stdout",
          "text": [
            "Unique values in Easy Apply: ['TRUE' '-1']\n",
            "Updated unique values in Easy Apply: [nan]\n"
          ]
        }
      ]
    },
    {
      "cell_type": "markdown",
      "source": [
        "13. Assess the accuracy of location entries. Are there misspelled or ambiguous locations that require correction?\n"
      ],
      "metadata": {
        "id": "tg58QHXnMbwQ"
      }
    },
    {
      "cell_type": "code",
      "source": [
        "import difflib\n",
        "\n",
        "# Display unique values in the \"Location\" column\n",
        "unique_locations = data['Location'].unique()\n",
        "\n",
        "# Create a function to find similar strings\n",
        "def find_similar_strings(input_str, str_list):\n",
        "    return difflib.get_close_matches(input_str, str_list, n=1, cutoff=0.8)\n",
        "\n",
        "# Check for misspelled or ambiguous locations\n",
        "for location in unique_locations:\n",
        "    similar_location = find_similar_strings(location, unique_locations)\n",
        "    if similar_location and similar_location[0] != location:\n",
        "        print(f\"Potential correction for {location}: {similar_location[0]}\")\n"
      ],
      "metadata": {
        "id": "vStug1MLMf3d"
      },
      "execution_count": 8,
      "outputs": []
    },
    {
      "cell_type": "markdown",
      "source": [
        "14. For categorical indicators, consider encoding or transforming them into a format suitable for analysis."
      ],
      "metadata": {
        "id": "DccO4gLYMuiD"
      }
    },
    {
      "cell_type": "code",
      "source": [
        "from sklearn.preprocessing import LabelEncoder\n",
        "\n",
        "label_encoder = LabelEncoder()\n",
        "data['Category_LabelEncoded'] = label_encoder.fit_transform(data['Age'])\n"
      ],
      "metadata": {
        "id": "qZq3V2z0MwkT"
      },
      "execution_count": 10,
      "outputs": []
    },
    {
      "cell_type": "markdown",
      "source": [
        "15. Ensure a consistent rating scale in the Rating column. Should it be normalized or adjusted for uniform analysis?\n"
      ],
      "metadata": {
        "id": "xVFEjsuvNJft"
      }
    },
    {
      "cell_type": "code",
      "source": [
        "print(\"Unique values in Rating:\", data['Rating'].unique())\n"
      ],
      "metadata": {
        "colab": {
          "base_uri": "https://localhost:8080/"
        },
        "id": "EUlfNJ4aNT8q",
        "outputId": "eaea0122-2229-4bc3-d1ec-1017069db15b"
      },
      "execution_count": 11,
      "outputs": [
        {
          "output_type": "stream",
          "name": "stdout",
          "text": [
            "Unique values in Rating: [ 5.4  3.5 -1.   4.4  6.4  1.4  0.   7.7  6.7  4.   3.   4.5  5.3  3.3\n",
            "  5.7  5.   7.8  2.4  nan  3.4]\n"
          ]
        }
      ]
    },
    {
      "cell_type": "code",
      "source": [
        "from sklearn.preprocessing import MinMaxScaler\n",
        "\n",
        "# Step 1: Handling Negative Values\n",
        "data['Rating'] = data['Rating'].replace(-1.0, np.nan)\n",
        "\n",
        "# Step 2: Handling Missing Values\n",
        "data['Rating'].fillna(data['Rating'].median(), inplace=True)\n",
        "\n",
        "# Step 3: Normalizing Ratings\n",
        "scaler = MinMaxScaler()\n",
        "data['Normalized_Rating'] = scaler.fit_transform(data[['Rating']])\n",
        "print(\"Unique values in Rating:\", data['Rating'].unique())\n"
      ],
      "metadata": {
        "colab": {
          "base_uri": "https://localhost:8080/"
        },
        "id": "m_cthkOhNX15",
        "outputId": "ef150b61-f864-41a0-907d-8c88afbd442d"
      },
      "execution_count": 13,
      "outputs": [
        {
          "output_type": "stream",
          "name": "stdout",
          "text": [
            "Unique values in Rating: [5.4  3.5  4.75 4.4  6.4  1.4  0.   7.7  6.7  4.   3.   4.5  5.3  3.3\n",
            " 5.7  5.   7.8  2.4  3.4 ]\n"
          ]
        }
      ]
    },
    {
      "cell_type": "code",
      "source": [
        "print(data.head(10))"
      ],
      "metadata": {
        "id": "8ey5RGEeEIhw",
        "colab": {
          "base_uri": "https://localhost:8080/"
        },
        "outputId": "1eb8136a-5565-4bf5-cb04-29ac1aa5ac1e"
      },
      "execution_count": 15,
      "outputs": [
        {
          "output_type": "stream",
          "name": "stdout",
          "text": [
            "   Index   Age     Salary  Rating       Location  Established Easy Apply  \\\n",
            "0      0  44.0  $44k-$99k    5.40       India,In         1999        NaN   \n",
            "1      1  66.0  $55k-$66k    3.50    New York,Ny         2002        NaN   \n",
            "2      2   NaN  $77k-$89k    4.75    New York,Ny           -1        NaN   \n",
            "3      3  64.0  $44k-$99k    4.40       India In         1988        NaN   \n",
            "4      4  25.0  $44k-$99k    6.40  Australia Aus         2002        NaN   \n",
            "5      5  44.0  $77k-$89k    1.40       India,In         1999        NaN   \n",
            "6      6  21.0  $44k-$99k    0.00    New York,Ny           -1        NaN   \n",
            "7      7  44.0  $44k-$99k    4.75  Australia Aus           -1        NaN   \n",
            "8      8  35.0  $44k-$99k    5.40    New York,Ny           -1        NaN   \n",
            "9      9  22.0  $44k-$99k    7.70       India,In           -1        NaN   \n",
            "\n",
            "   Expected_Age  Category_LabelEncoded  Normalized_Rating  \n",
            "0            24                      7           0.692308  \n",
            "1            21                     11           0.448718  \n",
            "2          2024                     12           0.608974  \n",
            "3            35                     10           0.564103  \n",
            "4            21                      4           0.820513  \n",
            "5            24                      7           0.179487  \n",
            "6          2024                      2           0.000000  \n",
            "7          2024                      7           0.608974  \n",
            "8          2024                      6           0.692308  \n",
            "9          2024                      3           0.987179  \n"
          ]
        }
      ]
    },
    {
      "cell_type": "code",
      "source": [
        "data['Established'] = data['Established'].replace(-1, np.nan)\n"
      ],
      "metadata": {
        "id": "VoKg2kIJEIcm"
      },
      "execution_count": 16,
      "outputs": []
    },
    {
      "cell_type": "code",
      "source": [
        "median_established = data['Established'].median()\n",
        "data['Established'] = data['Established'].replace(-1, np.nan).fillna(median_established)\n",
        "print(data.head(10))"
      ],
      "metadata": {
        "id": "LJS9-0NkEIX6",
        "colab": {
          "base_uri": "https://localhost:8080/"
        },
        "outputId": "da090b51-b965-40a1-a1d8-9371b5813a66"
      },
      "execution_count": 19,
      "outputs": [
        {
          "output_type": "stream",
          "name": "stdout",
          "text": [
            "   Index   Age     Salary  Rating       Location  Established Easy Apply  \\\n",
            "0      0  44.0  $44k-$99k    5.40       India,In       1999.0        NaN   \n",
            "1      1  66.0  $55k-$66k    3.50    New York,Ny       2002.0        NaN   \n",
            "2      2   NaN  $77k-$89k    4.75    New York,Ny       1988.0        NaN   \n",
            "3      3  64.0  $44k-$99k    4.40       India In       1988.0        NaN   \n",
            "4      4  25.0  $44k-$99k    6.40  Australia Aus       2002.0        NaN   \n",
            "5      5  44.0  $77k-$89k    1.40       India,In       1999.0        NaN   \n",
            "6      6  21.0  $44k-$99k    0.00    New York,Ny       1988.0        NaN   \n",
            "7      7  44.0  $44k-$99k    4.75  Australia Aus       1988.0        NaN   \n",
            "8      8  35.0  $44k-$99k    5.40    New York,Ny       1988.0        NaN   \n",
            "9      9  22.0  $44k-$99k    7.70       India,In       1988.0        NaN   \n",
            "\n",
            "   Expected_Age  Category_LabelEncoded  Normalized_Rating  \n",
            "0            24                      7           0.692308  \n",
            "1            21                     11           0.448718  \n",
            "2          2024                     12           0.608974  \n",
            "3            35                     10           0.564103  \n",
            "4            21                      4           0.820513  \n",
            "5            24                      7           0.179487  \n",
            "6          2024                      2           0.000000  \n",
            "7          2024                      7           0.608974  \n",
            "8          2024                      6           0.692308  \n",
            "9          2024                      3           0.987179  \n"
          ]
        }
      ]
    },
    {
      "cell_type": "code",
      "source": [
        "data['Salary'] = data['Salary'].str.replace('$', '')\n"
      ],
      "metadata": {
        "id": "tZi85cbNEIRP",
        "colab": {
          "base_uri": "https://localhost:8080/"
        },
        "outputId": "ddefe8cc-88b2-4207-c7b5-4a6fa4eb2b43"
      },
      "execution_count": 20,
      "outputs": [
        {
          "output_type": "stream",
          "name": "stderr",
          "text": [
            "<ipython-input-20-2327b68e708f>:1: FutureWarning: The default value of regex will change from True to False in a future version. In addition, single character regular expressions will *not* be treated as literal strings when regex=True.\n",
            "  data['Salary'] = data['Salary'].str.replace('$', '')\n"
          ]
        }
      ]
    },
    {
      "cell_type": "code",
      "source": [],
      "metadata": {
        "id": "f2d-khkzCQRF"
      },
      "execution_count": null,
      "outputs": []
    },
    {
      "cell_type": "code",
      "source": [
        "df[\"Location\"] = df[\"Location\"].str.lower().str.replace(\",\", \" \" ).str.rstrip(\"in\")"
      ],
      "metadata": {
        "id": "N_g26oXy_ez3"
      },
      "execution_count": null,
      "outputs": []
    },
    {
      "cell_type": "markdown",
      "source": [
        "Location column"
      ],
      "metadata": {
        "id": "IhR09NBM-y9_"
      }
    },
    {
      "cell_type": "code",
      "source": [
        "data['Location'].str.lower().str.replace(\",\",\"\").str.rstrip(\"in\")"
      ],
      "metadata": {
        "colab": {
          "base_uri": "https://localhost:8080/"
        },
        "id": "TkuCN_fE_mBk",
        "outputId": "6bafb48f-0e84-42a8-a622-12bca7b553e6"
      },
      "execution_count": null,
      "outputs": [
        {
          "output_type": "execute_result",
          "data": {
            "text/plain": [
              "0             india\n",
              "1        new yorkny\n",
              "2        new yorkny\n",
              "3            india \n",
              "4     australia aus\n",
              "5             india\n",
              "6        new yorkny\n",
              "7     australia aus\n",
              "8        new yorkny\n",
              "9             india\n",
              "10            india\n",
              "11            india\n",
              "12            india\n",
              "13    australia aus\n",
              "14    australia aus\n",
              "15    australia aus\n",
              "16            india\n",
              "17       new yorkny\n",
              "18       new yorkny\n",
              "19       new yorkny\n",
              "20       new yorkny\n",
              "21       new yorkny\n",
              "22       new yorkny\n",
              "23       new yorkny\n",
              "24       new yorkny\n",
              "25    australia aus\n",
              "26            india\n",
              "27            india\n",
              "28    australia aus\n",
              "Name: Location, dtype: object"
            ]
          },
          "metadata": {},
          "execution_count": 30
        }
      ]
    },
    {
      "cell_type": "code",
      "source": [
        "data['Location'].astype"
      ],
      "metadata": {
        "id": "jb3wabDpkCcY",
        "colab": {
          "base_uri": "https://localhost:8080/"
        },
        "outputId": "f405ebd1-4b6e-485d-c20a-1d4389a3e4bd"
      },
      "execution_count": null,
      "outputs": [
        {
          "output_type": "execute_result",
          "data": {
            "text/plain": [
              "<bound method NDFrame.astype of 0          India,In\n",
              "1       New York,Ny\n",
              "2       New York,Ny\n",
              "3          India In\n",
              "4     Australia Aus\n",
              "5          India,In\n",
              "6       New York,Ny\n",
              "7     Australia Aus\n",
              "8       New York,Ny\n",
              "9          India,In\n",
              "10         India,In\n",
              "11         India,In\n",
              "12         India,In\n",
              "13    Australia Aus\n",
              "14    Australia Aus\n",
              "15    Australia Aus\n",
              "16         India,In\n",
              "17      New York,Ny\n",
              "18      New York,Ny\n",
              "19      New York,Ny\n",
              "20      New York,Ny\n",
              "21      New York,Ny\n",
              "22      New York,Ny\n",
              "23      New York,Ny\n",
              "24      New York,Ny\n",
              "25    Australia Aus\n",
              "26         India,In\n",
              "27         India,In\n",
              "28    Australia Aus\n",
              "Name: Location, dtype: object>"
            ]
          },
          "metadata": {},
          "execution_count": 19
        }
      ]
    },
    {
      "cell_type": "markdown",
      "source": [
        "# What questions you can find in dataset 2(chipotle)?\n",
        "Before you actually answer these questions i will assume you have performed data cleaning.\n",
        "\n",
        "1. Quantity of each item? (Top 5 itmes available in store)\n",
        "2. which is most ordered item in choice_description?\n",
        "3. What is total order count?\n",
        "4. What is reveneu?\n",
        "5. what are number of orders?\n",
        "6. Whta is average revenue amount per order?\n",
        "7. How many different items are sold?\n",
        "8. what is revenue from each product?\n",
        "\n",
        "\n",
        "1. Find the unique items\n",
        "2. Find total cost and quantity of every unique items\n",
        "3. Find the average of every unique item\n",
        "4. Replace the items if abnormal with avg\n",
        "\n",
        "\n",
        "\n",
        "\n",
        "\n"
      ],
      "metadata": {
        "id": "-x1liyBk6zJJ"
      }
    },
    {
      "cell_type": "code",
      "source": [
        "df = pd.read_csv(\"/chipotle.tsv\",sep='\\t')\n",
        "df"
      ],
      "metadata": {
        "colab": {
          "base_uri": "https://localhost:8080/",
          "height": 424
        },
        "id": "piKXH_dqitqZ",
        "outputId": "d4fa9e2d-1dbe-442d-a34d-b78730884776"
      },
      "execution_count": 31,
      "outputs": [
        {
          "output_type": "execute_result",
          "data": {
            "text/plain": [
              "      order_id  quantity                              item_name  \\\n",
              "0            1         1           Chips and Fresh Tomato Salsa   \n",
              "1            1         1                                   Izze   \n",
              "2            1         1                       Nantucket Nectar   \n",
              "3            1         1  Chips and Tomatillo-Green Chili Salsa   \n",
              "4            2         2                           Chicken Bowl   \n",
              "...        ...       ...                                    ...   \n",
              "4617      1833         1                          Steak Burrito   \n",
              "4618      1833         1                          Steak Burrito   \n",
              "4619      1834         1                     Chicken Salad Bowl   \n",
              "4620      1834         1                     Chicken Salad Bowl   \n",
              "4621      1834         1                     Chicken Salad Bowl   \n",
              "\n",
              "                                     choice_description item_price  \n",
              "0                                                   NaN     $2.39   \n",
              "1                                          [Clementine]     $3.39   \n",
              "2                                               [Apple]     $3.39   \n",
              "3                                                   NaN     $2.39   \n",
              "4     [Tomatillo-Red Chili Salsa (Hot), [Black Beans...    $16.98   \n",
              "...                                                 ...        ...  \n",
              "4617  [Fresh Tomato Salsa, [Rice, Black Beans, Sour ...    $11.75   \n",
              "4618  [Fresh Tomato Salsa, [Rice, Sour Cream, Cheese...    $11.75   \n",
              "4619  [Fresh Tomato Salsa, [Fajita Vegetables, Pinto...    $11.25   \n",
              "4620  [Fresh Tomato Salsa, [Fajita Vegetables, Lettu...     $8.75   \n",
              "4621  [Fresh Tomato Salsa, [Fajita Vegetables, Pinto...     $8.75   \n",
              "\n",
              "[4622 rows x 5 columns]"
            ],
            "text/html": [
              "\n",
              "  <div id=\"df-45334595-89ea-48c6-b2f5-72df436631fb\" class=\"colab-df-container\">\n",
              "    <div>\n",
              "<style scoped>\n",
              "    .dataframe tbody tr th:only-of-type {\n",
              "        vertical-align: middle;\n",
              "    }\n",
              "\n",
              "    .dataframe tbody tr th {\n",
              "        vertical-align: top;\n",
              "    }\n",
              "\n",
              "    .dataframe thead th {\n",
              "        text-align: right;\n",
              "    }\n",
              "</style>\n",
              "<table border=\"1\" class=\"dataframe\">\n",
              "  <thead>\n",
              "    <tr style=\"text-align: right;\">\n",
              "      <th></th>\n",
              "      <th>order_id</th>\n",
              "      <th>quantity</th>\n",
              "      <th>item_name</th>\n",
              "      <th>choice_description</th>\n",
              "      <th>item_price</th>\n",
              "    </tr>\n",
              "  </thead>\n",
              "  <tbody>\n",
              "    <tr>\n",
              "      <th>0</th>\n",
              "      <td>1</td>\n",
              "      <td>1</td>\n",
              "      <td>Chips and Fresh Tomato Salsa</td>\n",
              "      <td>NaN</td>\n",
              "      <td>$2.39</td>\n",
              "    </tr>\n",
              "    <tr>\n",
              "      <th>1</th>\n",
              "      <td>1</td>\n",
              "      <td>1</td>\n",
              "      <td>Izze</td>\n",
              "      <td>[Clementine]</td>\n",
              "      <td>$3.39</td>\n",
              "    </tr>\n",
              "    <tr>\n",
              "      <th>2</th>\n",
              "      <td>1</td>\n",
              "      <td>1</td>\n",
              "      <td>Nantucket Nectar</td>\n",
              "      <td>[Apple]</td>\n",
              "      <td>$3.39</td>\n",
              "    </tr>\n",
              "    <tr>\n",
              "      <th>3</th>\n",
              "      <td>1</td>\n",
              "      <td>1</td>\n",
              "      <td>Chips and Tomatillo-Green Chili Salsa</td>\n",
              "      <td>NaN</td>\n",
              "      <td>$2.39</td>\n",
              "    </tr>\n",
              "    <tr>\n",
              "      <th>4</th>\n",
              "      <td>2</td>\n",
              "      <td>2</td>\n",
              "      <td>Chicken Bowl</td>\n",
              "      <td>[Tomatillo-Red Chili Salsa (Hot), [Black Beans...</td>\n",
              "      <td>$16.98</td>\n",
              "    </tr>\n",
              "    <tr>\n",
              "      <th>...</th>\n",
              "      <td>...</td>\n",
              "      <td>...</td>\n",
              "      <td>...</td>\n",
              "      <td>...</td>\n",
              "      <td>...</td>\n",
              "    </tr>\n",
              "    <tr>\n",
              "      <th>4617</th>\n",
              "      <td>1833</td>\n",
              "      <td>1</td>\n",
              "      <td>Steak Burrito</td>\n",
              "      <td>[Fresh Tomato Salsa, [Rice, Black Beans, Sour ...</td>\n",
              "      <td>$11.75</td>\n",
              "    </tr>\n",
              "    <tr>\n",
              "      <th>4618</th>\n",
              "      <td>1833</td>\n",
              "      <td>1</td>\n",
              "      <td>Steak Burrito</td>\n",
              "      <td>[Fresh Tomato Salsa, [Rice, Sour Cream, Cheese...</td>\n",
              "      <td>$11.75</td>\n",
              "    </tr>\n",
              "    <tr>\n",
              "      <th>4619</th>\n",
              "      <td>1834</td>\n",
              "      <td>1</td>\n",
              "      <td>Chicken Salad Bowl</td>\n",
              "      <td>[Fresh Tomato Salsa, [Fajita Vegetables, Pinto...</td>\n",
              "      <td>$11.25</td>\n",
              "    </tr>\n",
              "    <tr>\n",
              "      <th>4620</th>\n",
              "      <td>1834</td>\n",
              "      <td>1</td>\n",
              "      <td>Chicken Salad Bowl</td>\n",
              "      <td>[Fresh Tomato Salsa, [Fajita Vegetables, Lettu...</td>\n",
              "      <td>$8.75</td>\n",
              "    </tr>\n",
              "    <tr>\n",
              "      <th>4621</th>\n",
              "      <td>1834</td>\n",
              "      <td>1</td>\n",
              "      <td>Chicken Salad Bowl</td>\n",
              "      <td>[Fresh Tomato Salsa, [Fajita Vegetables, Pinto...</td>\n",
              "      <td>$8.75</td>\n",
              "    </tr>\n",
              "  </tbody>\n",
              "</table>\n",
              "<p>4622 rows × 5 columns</p>\n",
              "</div>\n",
              "    <div class=\"colab-df-buttons\">\n",
              "\n",
              "  <div class=\"colab-df-container\">\n",
              "    <button class=\"colab-df-convert\" onclick=\"convertToInteractive('df-45334595-89ea-48c6-b2f5-72df436631fb')\"\n",
              "            title=\"Convert this dataframe to an interactive table.\"\n",
              "            style=\"display:none;\">\n",
              "\n",
              "  <svg xmlns=\"http://www.w3.org/2000/svg\" height=\"24px\" viewBox=\"0 -960 960 960\">\n",
              "    <path d=\"M120-120v-720h720v720H120Zm60-500h600v-160H180v160Zm220 220h160v-160H400v160Zm0 220h160v-160H400v160ZM180-400h160v-160H180v160Zm440 0h160v-160H620v160ZM180-180h160v-160H180v160Zm440 0h160v-160H620v160Z\"/>\n",
              "  </svg>\n",
              "    </button>\n",
              "\n",
              "  <style>\n",
              "    .colab-df-container {\n",
              "      display:flex;\n",
              "      gap: 12px;\n",
              "    }\n",
              "\n",
              "    .colab-df-convert {\n",
              "      background-color: #E8F0FE;\n",
              "      border: none;\n",
              "      border-radius: 50%;\n",
              "      cursor: pointer;\n",
              "      display: none;\n",
              "      fill: #1967D2;\n",
              "      height: 32px;\n",
              "      padding: 0 0 0 0;\n",
              "      width: 32px;\n",
              "    }\n",
              "\n",
              "    .colab-df-convert:hover {\n",
              "      background-color: #E2EBFA;\n",
              "      box-shadow: 0px 1px 2px rgba(60, 64, 67, 0.3), 0px 1px 3px 1px rgba(60, 64, 67, 0.15);\n",
              "      fill: #174EA6;\n",
              "    }\n",
              "\n",
              "    .colab-df-buttons div {\n",
              "      margin-bottom: 4px;\n",
              "    }\n",
              "\n",
              "    [theme=dark] .colab-df-convert {\n",
              "      background-color: #3B4455;\n",
              "      fill: #D2E3FC;\n",
              "    }\n",
              "\n",
              "    [theme=dark] .colab-df-convert:hover {\n",
              "      background-color: #434B5C;\n",
              "      box-shadow: 0px 1px 3px 1px rgba(0, 0, 0, 0.15);\n",
              "      filter: drop-shadow(0px 1px 2px rgba(0, 0, 0, 0.3));\n",
              "      fill: #FFFFFF;\n",
              "    }\n",
              "  </style>\n",
              "\n",
              "    <script>\n",
              "      const buttonEl =\n",
              "        document.querySelector('#df-45334595-89ea-48c6-b2f5-72df436631fb button.colab-df-convert');\n",
              "      buttonEl.style.display =\n",
              "        google.colab.kernel.accessAllowed ? 'block' : 'none';\n",
              "\n",
              "      async function convertToInteractive(key) {\n",
              "        const element = document.querySelector('#df-45334595-89ea-48c6-b2f5-72df436631fb');\n",
              "        const dataTable =\n",
              "          await google.colab.kernel.invokeFunction('convertToInteractive',\n",
              "                                                    [key], {});\n",
              "        if (!dataTable) return;\n",
              "\n",
              "        const docLinkHtml = 'Like what you see? Visit the ' +\n",
              "          '<a target=\"_blank\" href=https://colab.research.google.com/notebooks/data_table.ipynb>data table notebook</a>'\n",
              "          + ' to learn more about interactive tables.';\n",
              "        element.innerHTML = '';\n",
              "        dataTable['output_type'] = 'display_data';\n",
              "        await google.colab.output.renderOutput(dataTable, element);\n",
              "        const docLink = document.createElement('div');\n",
              "        docLink.innerHTML = docLinkHtml;\n",
              "        element.appendChild(docLink);\n",
              "      }\n",
              "    </script>\n",
              "  </div>\n",
              "\n",
              "\n",
              "<div id=\"df-96b49158-190d-41dd-aa49-82a9e6d7949b\">\n",
              "  <button class=\"colab-df-quickchart\" onclick=\"quickchart('df-96b49158-190d-41dd-aa49-82a9e6d7949b')\"\n",
              "            title=\"Suggest charts\"\n",
              "            style=\"display:none;\">\n",
              "\n",
              "<svg xmlns=\"http://www.w3.org/2000/svg\" height=\"24px\"viewBox=\"0 0 24 24\"\n",
              "     width=\"24px\">\n",
              "    <g>\n",
              "        <path d=\"M19 3H5c-1.1 0-2 .9-2 2v14c0 1.1.9 2 2 2h14c1.1 0 2-.9 2-2V5c0-1.1-.9-2-2-2zM9 17H7v-7h2v7zm4 0h-2V7h2v10zm4 0h-2v-4h2v4z\"/>\n",
              "    </g>\n",
              "</svg>\n",
              "  </button>\n",
              "\n",
              "<style>\n",
              "  .colab-df-quickchart {\n",
              "      --bg-color: #E8F0FE;\n",
              "      --fill-color: #1967D2;\n",
              "      --hover-bg-color: #E2EBFA;\n",
              "      --hover-fill-color: #174EA6;\n",
              "      --disabled-fill-color: #AAA;\n",
              "      --disabled-bg-color: #DDD;\n",
              "  }\n",
              "\n",
              "  [theme=dark] .colab-df-quickchart {\n",
              "      --bg-color: #3B4455;\n",
              "      --fill-color: #D2E3FC;\n",
              "      --hover-bg-color: #434B5C;\n",
              "      --hover-fill-color: #FFFFFF;\n",
              "      --disabled-bg-color: #3B4455;\n",
              "      --disabled-fill-color: #666;\n",
              "  }\n",
              "\n",
              "  .colab-df-quickchart {\n",
              "    background-color: var(--bg-color);\n",
              "    border: none;\n",
              "    border-radius: 50%;\n",
              "    cursor: pointer;\n",
              "    display: none;\n",
              "    fill: var(--fill-color);\n",
              "    height: 32px;\n",
              "    padding: 0;\n",
              "    width: 32px;\n",
              "  }\n",
              "\n",
              "  .colab-df-quickchart:hover {\n",
              "    background-color: var(--hover-bg-color);\n",
              "    box-shadow: 0 1px 2px rgba(60, 64, 67, 0.3), 0 1px 3px 1px rgba(60, 64, 67, 0.15);\n",
              "    fill: var(--button-hover-fill-color);\n",
              "  }\n",
              "\n",
              "  .colab-df-quickchart-complete:disabled,\n",
              "  .colab-df-quickchart-complete:disabled:hover {\n",
              "    background-color: var(--disabled-bg-color);\n",
              "    fill: var(--disabled-fill-color);\n",
              "    box-shadow: none;\n",
              "  }\n",
              "\n",
              "  .colab-df-spinner {\n",
              "    border: 2px solid var(--fill-color);\n",
              "    border-color: transparent;\n",
              "    border-bottom-color: var(--fill-color);\n",
              "    animation:\n",
              "      spin 1s steps(1) infinite;\n",
              "  }\n",
              "\n",
              "  @keyframes spin {\n",
              "    0% {\n",
              "      border-color: transparent;\n",
              "      border-bottom-color: var(--fill-color);\n",
              "      border-left-color: var(--fill-color);\n",
              "    }\n",
              "    20% {\n",
              "      border-color: transparent;\n",
              "      border-left-color: var(--fill-color);\n",
              "      border-top-color: var(--fill-color);\n",
              "    }\n",
              "    30% {\n",
              "      border-color: transparent;\n",
              "      border-left-color: var(--fill-color);\n",
              "      border-top-color: var(--fill-color);\n",
              "      border-right-color: var(--fill-color);\n",
              "    }\n",
              "    40% {\n",
              "      border-color: transparent;\n",
              "      border-right-color: var(--fill-color);\n",
              "      border-top-color: var(--fill-color);\n",
              "    }\n",
              "    60% {\n",
              "      border-color: transparent;\n",
              "      border-right-color: var(--fill-color);\n",
              "    }\n",
              "    80% {\n",
              "      border-color: transparent;\n",
              "      border-right-color: var(--fill-color);\n",
              "      border-bottom-color: var(--fill-color);\n",
              "    }\n",
              "    90% {\n",
              "      border-color: transparent;\n",
              "      border-bottom-color: var(--fill-color);\n",
              "    }\n",
              "  }\n",
              "</style>\n",
              "\n",
              "  <script>\n",
              "    async function quickchart(key) {\n",
              "      const quickchartButtonEl =\n",
              "        document.querySelector('#' + key + ' button');\n",
              "      quickchartButtonEl.disabled = true;  // To prevent multiple clicks.\n",
              "      quickchartButtonEl.classList.add('colab-df-spinner');\n",
              "      try {\n",
              "        const charts = await google.colab.kernel.invokeFunction(\n",
              "            'suggestCharts', [key], {});\n",
              "      } catch (error) {\n",
              "        console.error('Error during call to suggestCharts:', error);\n",
              "      }\n",
              "      quickchartButtonEl.classList.remove('colab-df-spinner');\n",
              "      quickchartButtonEl.classList.add('colab-df-quickchart-complete');\n",
              "    }\n",
              "    (() => {\n",
              "      let quickchartButtonEl =\n",
              "        document.querySelector('#df-96b49158-190d-41dd-aa49-82a9e6d7949b button');\n",
              "      quickchartButtonEl.style.display =\n",
              "        google.colab.kernel.accessAllowed ? 'block' : 'none';\n",
              "    })();\n",
              "  </script>\n",
              "</div>\n",
              "\n",
              "  <div id=\"id_cb6411be-3628-46ef-bf7c-c9b6097a09d3\">\n",
              "    <style>\n",
              "      .colab-df-generate {\n",
              "        background-color: #E8F0FE;\n",
              "        border: none;\n",
              "        border-radius: 50%;\n",
              "        cursor: pointer;\n",
              "        display: none;\n",
              "        fill: #1967D2;\n",
              "        height: 32px;\n",
              "        padding: 0 0 0 0;\n",
              "        width: 32px;\n",
              "      }\n",
              "\n",
              "      .colab-df-generate:hover {\n",
              "        background-color: #E2EBFA;\n",
              "        box-shadow: 0px 1px 2px rgba(60, 64, 67, 0.3), 0px 1px 3px 1px rgba(60, 64, 67, 0.15);\n",
              "        fill: #174EA6;\n",
              "      }\n",
              "\n",
              "      [theme=dark] .colab-df-generate {\n",
              "        background-color: #3B4455;\n",
              "        fill: #D2E3FC;\n",
              "      }\n",
              "\n",
              "      [theme=dark] .colab-df-generate:hover {\n",
              "        background-color: #434B5C;\n",
              "        box-shadow: 0px 1px 3px 1px rgba(0, 0, 0, 0.15);\n",
              "        filter: drop-shadow(0px 1px 2px rgba(0, 0, 0, 0.3));\n",
              "        fill: #FFFFFF;\n",
              "      }\n",
              "    </style>\n",
              "    <button class=\"colab-df-generate\" onclick=\"generateWithVariable('df')\"\n",
              "            title=\"Generate code using this dataframe.\"\n",
              "            style=\"display:none;\">\n",
              "\n",
              "  <svg xmlns=\"http://www.w3.org/2000/svg\" height=\"24px\"viewBox=\"0 0 24 24\"\n",
              "       width=\"24px\">\n",
              "    <path d=\"M7,19H8.4L18.45,9,17,7.55,7,17.6ZM5,21V16.75L18.45,3.32a2,2,0,0,1,2.83,0l1.4,1.43a1.91,1.91,0,0,1,.58,1.4,1.91,1.91,0,0,1-.58,1.4L9.25,21ZM18.45,9,17,7.55Zm-12,3A5.31,5.31,0,0,0,4.9,8.1,5.31,5.31,0,0,0,1,6.5,5.31,5.31,0,0,0,4.9,4.9,5.31,5.31,0,0,0,6.5,1,5.31,5.31,0,0,0,8.1,4.9,5.31,5.31,0,0,0,12,6.5,5.46,5.46,0,0,0,6.5,12Z\"/>\n",
              "  </svg>\n",
              "    </button>\n",
              "    <script>\n",
              "      (() => {\n",
              "      const buttonEl =\n",
              "        document.querySelector('#id_cb6411be-3628-46ef-bf7c-c9b6097a09d3 button.colab-df-generate');\n",
              "      buttonEl.style.display =\n",
              "        google.colab.kernel.accessAllowed ? 'block' : 'none';\n",
              "\n",
              "      buttonEl.onclick = () => {\n",
              "        google.colab.notebook.generateWithVariable('df');\n",
              "      }\n",
              "      })();\n",
              "    </script>\n",
              "  </div>\n",
              "\n",
              "    </div>\n",
              "  </div>\n"
            ]
          },
          "metadata": {},
          "execution_count": 31
        }
      ]
    },
    {
      "cell_type": "code",
      "source": [
        "missing_values = df.isnull().sum()\n",
        "print(\"Missing values in each column:\")\n",
        "print(missing_values)\n"
      ],
      "metadata": {
        "id": "lq1ZEU9m_GWV",
        "colab": {
          "base_uri": "https://localhost:8080/"
        },
        "outputId": "76b1e56a-396b-4cb0-af86-727f899e537d"
      },
      "execution_count": 32,
      "outputs": [
        {
          "output_type": "stream",
          "name": "stdout",
          "text": [
            "Missing values in each column:\n",
            "order_id                 0\n",
            "quantity                 0\n",
            "item_name                0\n",
            "choice_description    1246\n",
            "item_price               0\n",
            "dtype: int64\n"
          ]
        }
      ]
    },
    {
      "cell_type": "markdown",
      "source": [
        "1. Check for missing values in each column (Order ID, Quantity, Item Name, Choice Description, Item Price). How should missing values be handled?\n"
      ],
      "metadata": {
        "id": "gr_p7j_1ThPg"
      }
    },
    {
      "cell_type": "code",
      "source": [
        "df['choice_description'] = df['choice_description'].fillna('Not Specified')\n",
        "df = df.dropna(subset=['choice_description'])\n"
      ],
      "metadata": {
        "id": "Skl2NKdcHPr5"
      },
      "execution_count": 34,
      "outputs": []
    },
    {
      "cell_type": "markdown",
      "source": [
        "2. Verify the data types of each column. Do they align with their expected types, and should any adjustments be made?\n"
      ],
      "metadata": {
        "id": "9IQQ7C2kTnfp"
      }
    },
    {
      "cell_type": "code",
      "source": [
        "print(df.dtypes)\n",
        "print(\"Unique values in 'item_price':\", df['item_price'].unique())\n"
      ],
      "metadata": {
        "colab": {
          "base_uri": "https://localhost:8080/"
        },
        "id": "7nLyx5QLTgFE",
        "outputId": "297161ce-f4df-4b5a-f9ef-b9adc8686767"
      },
      "execution_count": 38,
      "outputs": [
        {
          "output_type": "stream",
          "name": "stdout",
          "text": [
            "order_id                int64\n",
            "quantity                int64\n",
            "item_name              object\n",
            "choice_description     object\n",
            "item_price            float64\n",
            "dtype: object\n",
            "Unique values in 'item_price': [ 2.39  3.39 16.98 10.98  1.69 11.75  9.25  4.45  8.75 11.25  8.49  2.18\n",
            "  8.99  1.09  2.95  2.15  3.99 22.5  11.48 17.98 17.5   4.3   5.9   1.25\n",
            " 23.78  6.49 11.08  1.5  22.16 32.94 22.2  10.58  2.5  23.5   7.4  18.5\n",
            "  3.    6.78 11.89  9.39  4.    3.75  8.69  2.29  8.9   3.27  3.89  8.19\n",
            " 35.   27.75 11.8   6.   26.25 21.96  4.36  7.5   4.78 13.35  6.45  5.07\n",
            " 22.96  7.17  7.98  4.5  26.07 12.98 35.25 44.25 10.5  33.75 16.38 13.52\n",
            "  5.   15.    8.5  17.8   1.99 11.49]\n"
          ]
        }
      ]
    },
    {
      "cell_type": "code",
      "source": [
        "df['item_price'] = pd.to_numeric(df['item_price'], errors='coerce')\n",
        "print(df.dtypes)\n"
      ],
      "metadata": {
        "colab": {
          "base_uri": "https://localhost:8080/"
        },
        "id": "vZxmWuXDUaOx",
        "outputId": "b908193e-7f77-4dc3-8661-00e7986a4dd4"
      },
      "execution_count": 39,
      "outputs": [
        {
          "output_type": "stream",
          "name": "stdout",
          "text": [
            "order_id                int64\n",
            "quantity                int64\n",
            "item_name              object\n",
            "choice_description     object\n",
            "item_price            float64\n",
            "dtype: object\n"
          ]
        }
      ]
    },
    {
      "cell_type": "markdown",
      "source": [
        "3. Identify and handle duplicated entries in the dataset. How might duplicates impact analysis, and what is the appropriate action?"
      ],
      "metadata": {
        "id": "_XlyoHbiTp1U"
      }
    },
    {
      "cell_type": "code",
      "source": [
        "print(df[df.duplicated()])"
      ],
      "metadata": {
        "id": "vuIjaw-xU22s"
      },
      "execution_count": null,
      "outputs": []
    },
    {
      "cell_type": "code",
      "source": [
        "df_no_duplicates = df.drop_duplicates()\n",
        "aggregated_df = df.groupby(['order_id', 'item_name', 'choice_description']).agg({'quantity': 'sum', 'item_price': 'mean'}).reset_index()\n"
      ],
      "metadata": {
        "id": "huIml0bsVK0X"
      },
      "execution_count": 43,
      "outputs": []
    },
    {
      "cell_type": "markdown",
      "source": [
        "4. Examine the Quantity and Item Price columns. Are there any inconsistencies or anomalies that need correction?\n"
      ],
      "metadata": {
        "id": "3Nfwo1VmTtby"
      }
    },
    {
      "cell_type": "code",
      "source": [
        "print(df['quantity'].unique())\n",
        "print(df['item_price'].unique())"
      ],
      "metadata": {
        "id": "KFPjPKqtVaYO"
      },
      "execution_count": null,
      "outputs": []
    },
    {
      "cell_type": "code",
      "source": [
        "print(df['quantity'].describe())\n",
        "print(df['item_price'].describe())\n"
      ],
      "metadata": {
        "id": "YchAecVFWz43"
      },
      "execution_count": null,
      "outputs": []
    },
    {
      "cell_type": "markdown",
      "source": [
        "5. Analyze the Choice Description column. How should choices be handled, especially when there are multiple descriptions for a single item?\n"
      ],
      "metadata": {
        "id": "ClL27iYtTyFq"
      }
    },
    {
      "cell_type": "code",
      "source": [
        "print(df['choice_description'].unique())\n"
      ],
      "metadata": {
        "colab": {
          "base_uri": "https://localhost:8080/"
        },
        "id": "C9_RgiQLXivG",
        "outputId": "b809bca9-5713-43c4-c260-a69311400f21"
      },
      "execution_count": 49,
      "outputs": [
        {
          "output_type": "stream",
          "name": "stdout",
          "text": [
            "['Not Specified' '[Clementine]' '[Apple]' ...\n",
            " '[Roasted Chili Corn Salsa, [Pinto Beans, Sour Cream, Cheese, Lettuce, Guacamole]]'\n",
            " '[Tomatillo Green Chili Salsa, [Rice, Black Beans]]'\n",
            " '[Tomatillo Green Chili Salsa, [Rice, Fajita Vegetables, Black Beans, Guacamole]]']\n"
          ]
        }
      ]
    },
    {
      "cell_type": "code",
      "source": [
        "# Find the rows with malformed nodes in the `choice_description` column.\n",
        "malformed_rows = df[df['choice_description'].str.contains('<ast.Name object at')]\n",
        "\n",
        "# Remove the malformed nodes from the rows.\n",
        "malformed_rows['choice_description'] = malformed_rows['choice_description'].str.replace('<ast.Name object at', '')\n",
        "\n",
        "# Update the `choice_description` column with the cleaned data.\n",
        "df['choice_description'] = df['choice_description'].str.replace('<ast.Name object at', '')\n"
      ],
      "metadata": {
        "colab": {
          "base_uri": "https://localhost:8080/"
        },
        "id": "nI7Wj5EBX5-s",
        "outputId": "8e1c1202-e2e9-416f-d301-f5ac408a3800"
      },
      "execution_count": 53,
      "outputs": [
        {
          "output_type": "stream",
          "name": "stderr",
          "text": [
            "<ipython-input-53-d301ee719226>:5: FutureWarning: The default value of regex will change from True to False in a future version.\n",
            "  malformed_rows['choice_description'] = malformed_rows['choice_description'].str.replace('<ast.Name object at', '')\n",
            "<ipython-input-53-d301ee719226>:8: FutureWarning: The default value of regex will change from True to False in a future version.\n",
            "  df['choice_description'] = df['choice_description'].str.replace('<ast.Name object at', '')\n"
          ]
        }
      ]
    },
    {
      "cell_type": "code",
      "source": [
        "import ast\n",
        "\n",
        "def parse_choices(x):\n",
        "    try:\n",
        "        return ast.literal_eval(x)\n",
        "    except (SyntaxError, ValueError):\n",
        "        # Handle the case where x is not a valid Python expression (e.g., \"Not Specified\")\n",
        "        return ['Not Specified']\n",
        "\n",
        "df['choice_description'] = df['choice_description'].apply(lambda x: parse_choices(x) if pd.notna(x) else ['Not Specified'])\n",
        "df['primary_choice'] = df['choice_description'].apply(lambda x: x[0] if x else 'Not Specified')\n",
        "df['num_choices'] = df['choice_description'].apply(lambda x: len(x))\n",
        "\n",
        "# Display unique primary choices and summary statistics for the number of choices\n",
        "print(\"Unique primary choices:\")\n",
        "print(df['primary_choice'].unique())\n",
        "\n",
        "print(\"\\nSummary statistics for 'num_choices':\")\n",
        "print(df['num_choices'].describe())\n",
        "\n"
      ],
      "metadata": {
        "colab": {
          "base_uri": "https://localhost:8080/"
        },
        "id": "xyHIPO3VYa6b",
        "outputId": "4d4d348f-2986-422c-d7cd-19757389687d"
      },
      "execution_count": 61,
      "outputs": [
        {
          "output_type": "stream",
          "name": "stdout",
          "text": [
            "Unique primary choices:\n",
            "['Not Specified']\n",
            "\n",
            "Summary statistics for 'num_choices':\n",
            "count    4622.0\n",
            "mean        1.0\n",
            "std         0.0\n",
            "min         1.0\n",
            "25%         1.0\n",
            "50%         1.0\n",
            "75%         1.0\n",
            "max         1.0\n",
            "Name: num_choices, dtype: float64\n"
          ]
        }
      ]
    },
    {
      "cell_type": "markdown",
      "source": [
        "6. Check for special characters in text-based columns (e.g., Item Name, Choice Description). How can these be addressed for consistency?\n"
      ],
      "metadata": {
        "id": "qc1xkhATT0jb"
      }
    },
    {
      "cell_type": "code",
      "source": [
        "import pandas as pd\n",
        "import re\n",
        "\n",
        "# Columns to check for special characters\n",
        "text_columns = ['item_name', 'choice_description']\n",
        "\n",
        "# Function to check for special characters in a string\n",
        "def has_special_characters(s):\n",
        "    # Define a regular expression pattern to match special characters\n",
        "    pattern = re.compile(r'[^a-zA-Z0-9\\s]')\n",
        "    return bool(pattern.search(s))\n",
        "\n",
        "# Check for special characters in each specified column\n",
        "for column in text_columns:\n",
        "    # Create a new column indicating whether special characters are present\n",
        "    df[f'{column}_has_special_characters'] = df[column].apply(lambda x: has_special_characters(str(x)))\n",
        "\n",
        "# Display rows with special characters in the specified columns\n",
        "rows_with_special_characters = df[df[[f'{column}_has_special_characters' for column in text_columns]].any(axis=1)]\n",
        "print(\"Rows with special characters:\")\n",
        "print(rows_with_special_characters)\n",
        "\n",
        "# Handle special characters as needed (e.g., remove or replace)\n",
        "# Example: Remove special characters and leading/trailing whitespaces\n",
        "for column in text_columns:\n",
        "    df[column] = df[column].apply(lambda x: re.sub(r'[^a-zA-Z0-9\\s]', '', str(x).strip()) if pd.notna(x) else x)\n",
        "\n",
        "# Display the modified DataFrame\n",
        "print(\"\\nModified DataFrame:\")\n",
        "print(df)\n"
      ],
      "metadata": {
        "colab": {
          "base_uri": "https://localhost:8080/"
        },
        "id": "H3AVRnd6Z1ni",
        "outputId": "f88e81b1-ae1d-49c9-c393-ee2e3658ad77"
      },
      "execution_count": 62,
      "outputs": [
        {
          "output_type": "stream",
          "name": "stdout",
          "text": [
            "Rows with special characters:\n",
            "      order_id  quantity                              item_name  \\\n",
            "0            1         1           Chips and Fresh Tomato Salsa   \n",
            "1            1         1                                   Izze   \n",
            "2            1         1                       Nantucket Nectar   \n",
            "3            1         1  Chips and Tomatillo-Green Chili Salsa   \n",
            "4            2         2                           Chicken Bowl   \n",
            "...        ...       ...                                    ...   \n",
            "4617      1833         1                          Steak Burrito   \n",
            "4618      1833         1                          Steak Burrito   \n",
            "4619      1834         1                     Chicken Salad Bowl   \n",
            "4620      1834         1                     Chicken Salad Bowl   \n",
            "4621      1834         1                     Chicken Salad Bowl   \n",
            "\n",
            "     choice_description  item_price primary_choice  num_choices  \\\n",
            "0       [Not Specified]        2.39  Not Specified            1   \n",
            "1       [Not Specified]        3.39  Not Specified            1   \n",
            "2       [Not Specified]        3.39  Not Specified            1   \n",
            "3       [Not Specified]        2.39  Not Specified            1   \n",
            "4       [Not Specified]       16.98  Not Specified            1   \n",
            "...                 ...         ...            ...          ...   \n",
            "4617    [Not Specified]       11.75  Not Specified            1   \n",
            "4618    [Not Specified]       11.75  Not Specified            1   \n",
            "4619    [Not Specified]       11.25  Not Specified            1   \n",
            "4620    [Not Specified]        8.75  Not Specified            1   \n",
            "4621    [Not Specified]        8.75  Not Specified            1   \n",
            "\n",
            "      item_name_has_special_characters  \\\n",
            "0                                False   \n",
            "1                                False   \n",
            "2                                False   \n",
            "3                                 True   \n",
            "4                                False   \n",
            "...                                ...   \n",
            "4617                             False   \n",
            "4618                             False   \n",
            "4619                             False   \n",
            "4620                             False   \n",
            "4621                             False   \n",
            "\n",
            "      choice_description_has_special_characters  \n",
            "0                                          True  \n",
            "1                                          True  \n",
            "2                                          True  \n",
            "3                                          True  \n",
            "4                                          True  \n",
            "...                                         ...  \n",
            "4617                                       True  \n",
            "4618                                       True  \n",
            "4619                                       True  \n",
            "4620                                       True  \n",
            "4621                                       True  \n",
            "\n",
            "[4622 rows x 9 columns]\n",
            "\n",
            "Modified DataFrame:\n",
            "      order_id  quantity                             item_name  \\\n",
            "0            1         1          Chips and Fresh Tomato Salsa   \n",
            "1            1         1                                  Izze   \n",
            "2            1         1                      Nantucket Nectar   \n",
            "3            1         1  Chips and TomatilloGreen Chili Salsa   \n",
            "4            2         2                          Chicken Bowl   \n",
            "...        ...       ...                                   ...   \n",
            "4617      1833         1                         Steak Burrito   \n",
            "4618      1833         1                         Steak Burrito   \n",
            "4619      1834         1                    Chicken Salad Bowl   \n",
            "4620      1834         1                    Chicken Salad Bowl   \n",
            "4621      1834         1                    Chicken Salad Bowl   \n",
            "\n",
            "     choice_description  item_price primary_choice  num_choices  \\\n",
            "0         Not Specified        2.39  Not Specified            1   \n",
            "1         Not Specified        3.39  Not Specified            1   \n",
            "2         Not Specified        3.39  Not Specified            1   \n",
            "3         Not Specified        2.39  Not Specified            1   \n",
            "4         Not Specified       16.98  Not Specified            1   \n",
            "...                 ...         ...            ...          ...   \n",
            "4617      Not Specified       11.75  Not Specified            1   \n",
            "4618      Not Specified       11.75  Not Specified            1   \n",
            "4619      Not Specified       11.25  Not Specified            1   \n",
            "4620      Not Specified        8.75  Not Specified            1   \n",
            "4621      Not Specified        8.75  Not Specified            1   \n",
            "\n",
            "      item_name_has_special_characters  \\\n",
            "0                                False   \n",
            "1                                False   \n",
            "2                                False   \n",
            "3                                 True   \n",
            "4                                False   \n",
            "...                                ...   \n",
            "4617                             False   \n",
            "4618                             False   \n",
            "4619                             False   \n",
            "4620                             False   \n",
            "4621                             False   \n",
            "\n",
            "      choice_description_has_special_characters  \n",
            "0                                          True  \n",
            "1                                          True  \n",
            "2                                          True  \n",
            "3                                          True  \n",
            "4                                          True  \n",
            "...                                         ...  \n",
            "4617                                       True  \n",
            "4618                                       True  \n",
            "4619                                       True  \n",
            "4620                                       True  \n",
            "4621                                       True  \n",
            "\n",
            "[4622 rows x 9 columns]\n"
          ]
        }
      ]
    },
    {
      "cell_type": "markdown",
      "source": [
        "7. Cross-reference the Order ID column for integrity. Are there any irregularities or patterns that need validation?\n"
      ],
      "metadata": {
        "id": "GJW9R9jzT4Sn"
      }
    },
    {
      "cell_type": "code",
      "source": [
        "import pandas as pd\n",
        "\n",
        "# Check for irregularities or patterns in the 'order_id' column\n",
        "order_id_counts = df['order_id'].value_counts()\n",
        "\n",
        "# Display unique order IDs and their counts\n",
        "print(\"Order ID Counts:\")\n",
        "print(order_id_counts)\n",
        "\n",
        "# Check for duplicated order IDs\n",
        "duplicated_order_ids = df[df.duplicated(subset='order_id', keep=False)]\n",
        "\n",
        "# Display rows with duplicated order IDs\n",
        "print(\"\\nRows with Duplicated Order IDs:\")\n",
        "print(duplicated_order_ids)\n"
      ],
      "metadata": {
        "colab": {
          "base_uri": "https://localhost:8080/"
        },
        "id": "LnSqiFCDaJBc",
        "outputId": "3ea285be-15f1-44e6-a379-95bc8025c83a"
      },
      "execution_count": 63,
      "outputs": [
        {
          "output_type": "stream",
          "name": "stdout",
          "text": [
            "Order ID Counts:\n",
            "926     23\n",
            "1483    14\n",
            "205     12\n",
            "759     11\n",
            "1786    11\n",
            "        ..\n",
            "768      1\n",
            "341      1\n",
            "1048     1\n",
            "94       1\n",
            "1199     1\n",
            "Name: order_id, Length: 1834, dtype: int64\n",
            "\n",
            "Rows with Duplicated Order IDs:\n",
            "      order_id  quantity                             item_name  \\\n",
            "0            1         1          Chips and Fresh Tomato Salsa   \n",
            "1            1         1                                  Izze   \n",
            "2            1         1                      Nantucket Nectar   \n",
            "3            1         1  Chips and TomatilloGreen Chili Salsa   \n",
            "5            3         1                          Chicken Bowl   \n",
            "...        ...       ...                                   ...   \n",
            "4617      1833         1                         Steak Burrito   \n",
            "4618      1833         1                         Steak Burrito   \n",
            "4619      1834         1                    Chicken Salad Bowl   \n",
            "4620      1834         1                    Chicken Salad Bowl   \n",
            "4621      1834         1                    Chicken Salad Bowl   \n",
            "\n",
            "     choice_description  item_price primary_choice  num_choices  \\\n",
            "0         Not Specified        2.39  Not Specified            1   \n",
            "1         Not Specified        3.39  Not Specified            1   \n",
            "2         Not Specified        3.39  Not Specified            1   \n",
            "3         Not Specified        2.39  Not Specified            1   \n",
            "5         Not Specified       10.98  Not Specified            1   \n",
            "...                 ...         ...            ...          ...   \n",
            "4617      Not Specified       11.75  Not Specified            1   \n",
            "4618      Not Specified       11.75  Not Specified            1   \n",
            "4619      Not Specified       11.25  Not Specified            1   \n",
            "4620      Not Specified        8.75  Not Specified            1   \n",
            "4621      Not Specified        8.75  Not Specified            1   \n",
            "\n",
            "      item_name_has_special_characters  \\\n",
            "0                                False   \n",
            "1                                False   \n",
            "2                                False   \n",
            "3                                 True   \n",
            "5                                False   \n",
            "...                                ...   \n",
            "4617                             False   \n",
            "4618                             False   \n",
            "4619                             False   \n",
            "4620                             False   \n",
            "4621                             False   \n",
            "\n",
            "      choice_description_has_special_characters  \n",
            "0                                          True  \n",
            "1                                          True  \n",
            "2                                          True  \n",
            "3                                          True  \n",
            "5                                          True  \n",
            "...                                         ...  \n",
            "4617                                       True  \n",
            "4618                                       True  \n",
            "4619                                       True  \n",
            "4620                                       True  \n",
            "4621                                       True  \n",
            "\n",
            "[4494 rows x 9 columns]\n"
          ]
        }
      ]
    },
    {
      "cell_type": "markdown",
      "source": [
        "8. Standardize the Item Name column. Are there variations that can be unified for better analysis?\n"
      ],
      "metadata": {
        "id": "KFwJy_1oT7GX"
      }
    },
    {
      "cell_type": "code",
      "source": [
        "import pandas as pd\n",
        "\n",
        "# Standardize the 'item_name' column\n",
        "df['item_name_standardized'] = df['item_name'].str.lower().str.strip()\n",
        "\n",
        "# Display unique standardized item names\n",
        "print(\"Unique Standardized Item Names:\")\n",
        "print(df['item_name_standardized'].unique())\n"
      ],
      "metadata": {
        "colab": {
          "base_uri": "https://localhost:8080/"
        },
        "id": "EPxQo78VaVIQ",
        "outputId": "64a32bb3-39cb-4fb8-e8cc-9321da3a3fae"
      },
      "execution_count": 64,
      "outputs": [
        {
          "output_type": "stream",
          "name": "stdout",
          "text": [
            "Unique Standardized Item Names:\n",
            "['chips and fresh tomato salsa' 'izze' 'nantucket nectar'\n",
            " 'chips and tomatillogreen chili salsa' 'chicken bowl' 'side of chips'\n",
            " 'steak burrito' 'steak soft tacos' 'chips and guacamole'\n",
            " 'chicken crispy tacos' 'chicken soft tacos' 'chicken burrito'\n",
            " 'canned soda' 'barbacoa burrito' 'carnitas burrito' 'carnitas bowl'\n",
            " 'bottled water' 'chips and tomatillo green chili salsa' 'barbacoa bowl'\n",
            " 'chips' 'chicken salad bowl' 'steak bowl' 'barbacoa soft tacos'\n",
            " 'veggie burrito' 'veggie bowl' 'steak crispy tacos'\n",
            " 'chips and tomatillo red chili salsa' 'barbacoa crispy tacos'\n",
            " 'veggie salad bowl' 'chips and roasted chilicorn salsa'\n",
            " 'chips and roasted chili corn salsa' 'carnitas soft tacos'\n",
            " 'chicken salad' 'canned soft drink' 'steak salad bowl'\n",
            " '6 pack soft drink' 'chips and tomatillored chili salsa' 'bowl' 'burrito'\n",
            " 'crispy tacos' 'carnitas crispy tacos' 'steak salad'\n",
            " 'chips and mild fresh tomato salsa' 'veggie soft tacos'\n",
            " 'carnitas salad bowl' 'barbacoa salad bowl' 'salad' 'veggie crispy tacos'\n",
            " 'veggie salad' 'carnitas salad']\n"
          ]
        }
      ]
    },
    {
      "cell_type": "markdown",
      "source": [
        "9.  Investigate the relationships between Quantity and Item Price. Are there cases where adjustments need to be made for accurate analysis?\n"
      ],
      "metadata": {
        "id": "T-0JHj3bT9na"
      }
    },
    {
      "cell_type": "code",
      "source": [
        "df['item_price_numeric'] = pd.to_numeric(df['item_price'].replace('[\\$,]', '', regex=True), errors='coerce')\n",
        "print(df[['quantity', 'item_price_numeric']].describe())\n"
      ],
      "metadata": {
        "colab": {
          "base_uri": "https://localhost:8080/"
        },
        "id": "6Z8ADFeAahtb",
        "outputId": "160c5a49-251c-4ab1-9175-e7dbd5ebac12"
      },
      "execution_count": 65,
      "outputs": [
        {
          "output_type": "stream",
          "name": "stdout",
          "text": [
            "          quantity  item_price_numeric\n",
            "count  4622.000000         4622.000000\n",
            "mean      1.075725            7.464336\n",
            "std       0.410186            4.245557\n",
            "min       1.000000            1.090000\n",
            "25%       1.000000            3.390000\n",
            "50%       1.000000            8.750000\n",
            "75%       1.000000            9.250000\n",
            "max      15.000000           44.250000\n"
          ]
        }
      ]
    },
    {
      "cell_type": "markdown",
      "source": [
        "10. Perform a data integrity check by ensuring that quantities and prices align with the corresponding items and descriptions.\n"
      ],
      "metadata": {
        "id": "mQSoctMDT_2_"
      }
    },
    {
      "cell_type": "code",
      "source": [
        "import pandas as pd\n",
        "\n",
        "# Check for inconsistencies between quantities, item prices, and descriptions\n",
        "inconsistent_entries = df[df['quantity'] * df['item_price_numeric'] != df['item_price_numeric']]\n",
        "\n",
        "# Display rows with inconsistent entries\n",
        "print(\"Rows with Inconsistent Entries:\")\n",
        "print(inconsistent_entries)\n",
        "\n",
        "# Check for missing values in relevant columns\n",
        "missing_values = df[['quantity', 'item_price_numeric', 'item_name', 'choice_description']].isnull().sum()\n",
        "\n",
        "# Display missing values\n",
        "print(\"\\nMissing Values:\")\n",
        "print(missing_values)\n"
      ],
      "metadata": {
        "colab": {
          "base_uri": "https://localhost:8080/"
        },
        "id": "aJBzz-HRauw9",
        "outputId": "b167da8b-dcc5-4c00-b58e-922fd0d9a046"
      },
      "execution_count": 66,
      "outputs": [
        {
          "output_type": "stream",
          "name": "stdout",
          "text": [
            "Rows with Inconsistent Entries:\n",
            "      order_id  quantity           item_name choice_description  item_price  \\\n",
            "4            2         2        Chicken Bowl      Not Specified       16.98   \n",
            "18           9         2         Canned Soda      Not Specified        2.18   \n",
            "51          23         2         Canned Soda      Not Specified        2.18   \n",
            "135         60         2  Chicken Salad Bowl      Not Specified       22.50   \n",
            "148         67         2       Steak Burrito      Not Specified       17.98   \n",
            "...        ...       ...                 ...                ...         ...   \n",
            "4491      1786         4   Canned Soft Drink      Not Specified        5.00   \n",
            "4499      1789         2   Canned Soft Drink      Not Specified        2.50   \n",
            "4560      1812         2   Canned Soft Drink      Not Specified        2.50   \n",
            "4561      1813         2  Chicken Salad Bowl      Not Specified       17.50   \n",
            "4582      1822         2       Bottled Water      Not Specified        3.00   \n",
            "\n",
            "     primary_choice  num_choices  item_name_has_special_characters  \\\n",
            "4     Not Specified            1                             False   \n",
            "18    Not Specified            1                             False   \n",
            "51    Not Specified            1                             False   \n",
            "135   Not Specified            1                             False   \n",
            "148   Not Specified            1                             False   \n",
            "...             ...          ...                               ...   \n",
            "4491  Not Specified            1                             False   \n",
            "4499  Not Specified            1                             False   \n",
            "4560  Not Specified            1                             False   \n",
            "4561  Not Specified            1                             False   \n",
            "4582  Not Specified            1                             False   \n",
            "\n",
            "      choice_description_has_special_characters item_name_standardized  \\\n",
            "4                                          True           chicken bowl   \n",
            "18                                         True            canned soda   \n",
            "51                                         True            canned soda   \n",
            "135                                        True     chicken salad bowl   \n",
            "148                                        True          steak burrito   \n",
            "...                                         ...                    ...   \n",
            "4491                                       True      canned soft drink   \n",
            "4499                                       True      canned soft drink   \n",
            "4560                                       True      canned soft drink   \n",
            "4561                                       True     chicken salad bowl   \n",
            "4582                                       True          bottled water   \n",
            "\n",
            "      item_price_numeric  \n",
            "4                  16.98  \n",
            "18                  2.18  \n",
            "51                  2.18  \n",
            "135                22.50  \n",
            "148                17.98  \n",
            "...                  ...  \n",
            "4491                5.00  \n",
            "4499                2.50  \n",
            "4560                2.50  \n",
            "4561               17.50  \n",
            "4582                3.00  \n",
            "\n",
            "[267 rows x 11 columns]\n",
            "\n",
            "Missing Values:\n",
            "quantity              0\n",
            "item_price_numeric    0\n",
            "item_name             0\n",
            "choice_description    0\n",
            "dtype: int64\n"
          ]
        }
      ]
    },
    {
      "cell_type": "markdown",
      "source": [
        "11. : If needed, convert the cleaned dataset to a CSV file using the to_csv function with sep=','.\n"
      ],
      "metadata": {
        "id": "lHk3b_TYUB3k"
      }
    },
    {
      "cell_type": "code",
      "source": [
        "df.to_csv('cleaned_dataset.csv', sep=',', index=False)\n"
      ],
      "metadata": {
        "id": "4VsLhjpXa4Aj"
      },
      "execution_count": 67,
      "outputs": []
    },
    {
      "cell_type": "markdown",
      "source": [
        "12. For categorical columns (e.g., Item Name), consider encoding or transforming them into a format suitable for analysis."
      ],
      "metadata": {
        "id": "DjnXDlg6UEAM"
      }
    },
    {
      "cell_type": "code",
      "source": [
        "# Perform one-hot encoding\n",
        "df_encoded = pd.get_dummies(df, columns=['item_name'], prefix='item')\n",
        "\n",
        "# Display the first few rows of the encoded DataFrame\n",
        "print(df_encoded.head())\n"
      ],
      "metadata": {
        "colab": {
          "base_uri": "https://localhost:8080/"
        },
        "id": "nr9jvyx7a6lK",
        "outputId": "9af6ff3e-478c-4da1-c39a-edba64c955a0"
      },
      "execution_count": 68,
      "outputs": [
        {
          "output_type": "stream",
          "name": "stdout",
          "text": [
            "   order_id  quantity choice_description  item_price primary_choice  \\\n",
            "0         1         1      Not Specified        2.39  Not Specified   \n",
            "1         1         1      Not Specified        3.39  Not Specified   \n",
            "2         1         1      Not Specified        3.39  Not Specified   \n",
            "3         1         1      Not Specified        2.39  Not Specified   \n",
            "4         2         2      Not Specified       16.98  Not Specified   \n",
            "\n",
            "   num_choices  item_name_has_special_characters  \\\n",
            "0            1                             False   \n",
            "1            1                             False   \n",
            "2            1                             False   \n",
            "3            1                              True   \n",
            "4            1                             False   \n",
            "\n",
            "   choice_description_has_special_characters  \\\n",
            "0                                       True   \n",
            "1                                       True   \n",
            "2                                       True   \n",
            "3                                       True   \n",
            "4                                       True   \n",
            "\n",
            "                 item_name_standardized  item_price_numeric  ...  \\\n",
            "0          chips and fresh tomato salsa                2.39  ...   \n",
            "1                                  izze                3.39  ...   \n",
            "2                      nantucket nectar                3.39  ...   \n",
            "3  chips and tomatillogreen chili salsa                2.39  ...   \n",
            "4                          chicken bowl               16.98  ...   \n",
            "\n",
            "   item_Steak Crispy Tacos  item_Steak Salad  item_Steak Salad Bowl  \\\n",
            "0                        0                 0                      0   \n",
            "1                        0                 0                      0   \n",
            "2                        0                 0                      0   \n",
            "3                        0                 0                      0   \n",
            "4                        0                 0                      0   \n",
            "\n",
            "   item_Steak Soft Tacos  item_Veggie Bowl  item_Veggie Burrito  \\\n",
            "0                      0                 0                    0   \n",
            "1                      0                 0                    0   \n",
            "2                      0                 0                    0   \n",
            "3                      0                 0                    0   \n",
            "4                      0                 0                    0   \n",
            "\n",
            "   item_Veggie Crispy Tacos  item_Veggie Salad  item_Veggie Salad Bowl  \\\n",
            "0                         0                  0                       0   \n",
            "1                         0                  0                       0   \n",
            "2                         0                  0                       0   \n",
            "3                         0                  0                       0   \n",
            "4                         0                  0                       0   \n",
            "\n",
            "   item_Veggie Soft Tacos  \n",
            "0                       0  \n",
            "1                       0  \n",
            "2                       0  \n",
            "3                       0  \n",
            "4                       0  \n",
            "\n",
            "[5 rows x 60 columns]\n"
          ]
        }
      ]
    },
    {
      "cell_type": "markdown",
      "source": [
        "13.  Ensure consistency in units for Quantity and Item Price. Should any conversions or adjustments be made for uniform analysis?\n"
      ],
      "metadata": {
        "id": "0Pa1s3yEUHOY"
      }
    },
    {
      "cell_type": "code",
      "source": [
        "# Check Quantity for non-integer values\n",
        "non_integer_quantities = df[~df['quantity'].astype(int).eq(df['quantity'])]\n",
        "print(\"Non-integer Quantity values:\")\n",
        "print(non_integer_quantities[['quantity', 'item_name']])\n",
        "\n",
        "# Check Item Price for non-numeric values\n",
        "non_numeric_prices = df[pd.to_numeric(df['item_price'], errors='coerce').isnull()]\n",
        "print(\"\\nNon-numeric Item Price values:\")\n",
        "print(non_numeric_prices[['quantity', 'item_name', 'item_price']])\n"
      ],
      "metadata": {
        "colab": {
          "base_uri": "https://localhost:8080/"
        },
        "id": "nkGTGKPEbJPQ",
        "outputId": "5f56fc8f-061a-43ee-d2e4-9282c3c965ba"
      },
      "execution_count": 69,
      "outputs": [
        {
          "output_type": "stream",
          "name": "stdout",
          "text": [
            "Non-integer Quantity values:\n",
            "Empty DataFrame\n",
            "Columns: [quantity, item_name]\n",
            "Index: []\n",
            "\n",
            "Non-numeric Item Price values:\n",
            "Empty DataFrame\n",
            "Columns: [quantity, item_name, item_price]\n",
            "Index: []\n"
          ]
        }
      ]
    }
  ]
}